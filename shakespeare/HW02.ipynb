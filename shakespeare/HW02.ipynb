{
 "cells": [
  {
   "cell_type": "code",
   "execution_count": 1,
   "metadata": {
    "ExecuteTime": {
     "end_time": "2024-01-20T20:14:40.096367Z",
     "start_time": "2024-01-20T20:14:38.992309Z"
    }
   },
   "outputs": [],
   "source": [
    "import numpy as np\n",
    "import re\n",
    "import torch\n",
    "import torch.nn as nn\n",
    "import torch.utils.data as utils\n",
    "import numpy as np\n",
    "import torch.nn.functional as F"
   ]
  },
  {
   "cell_type": "code",
   "execution_count": 2,
   "metadata": {
    "ExecuteTime": {
     "end_time": "2024-01-20T20:14:40.102320Z",
     "start_time": "2024-01-20T20:14:40.097019Z"
    }
   },
   "outputs": [],
   "source": [
    "# Pre-processing"
   ]
  },
  {
   "cell_type": "code",
   "execution_count": 3,
   "metadata": {
    "ExecuteTime": {
     "end_time": "2024-01-20T20:14:40.102989Z",
     "start_time": "2024-01-20T20:14:40.100008Z"
    }
   },
   "outputs": [],
   "source": [
    "shakespeare = 'shakespeare.txt'\n",
    "spenser = 'spenser.txt'\n",
    "syllable_dict = 'Syllable_dictionary.txt'"
   ]
  },
  {
   "cell_type": "code",
   "execution_count": 4,
   "metadata": {
    "ExecuteTime": {
     "end_time": "2024-01-20T20:14:40.108398Z",
     "start_time": "2024-01-20T20:14:40.103348Z"
    }
   },
   "outputs": [],
   "source": [
    "# dict\n",
    "sylDict ={}\n",
    "lenL = set()\n",
    "with open(syllable_dict) as f:\n",
    "    for l in f:\n",
    "        lst = l.split(' ')\n",
    "        lenL.add(len(lst))\n",
    "        if len(lst) == 2:\n",
    "            sylDict[lst[0]] = int(lst[1].replace('\\n', ''))\n",
    "        else:\n",
    "            e = int(lst[1].replace('E', '').replace('\\n', ''))\n",
    "            n = int(lst[2].replace('E', '').replace('\\n', ''))\n",
    "            sylDict[lst[0]] = (e+n)/2"
   ]
  },
  {
   "cell_type": "markdown",
   "metadata": {},
   "source": [
    "Problem A. \n",
    "\n",
    "i.\n",
    "I lowercased all the words, got rid of roman numerals and excessive line change characters, and tokenized each characters before i one-hot encoded them. A sequence consist of one-hot encoded version of 40 characters. I left the y value in the form of just tokenization, so just numbers representing each character instead of one-hot encoding them. I first tried one-hot encoding the y values as well and the model would just spit out Grrrr. I also tried tokenize each word instead of characters, and using various n-grams as my x values. Which garantteed the model spitting out actual words, but no line changes anymore. Also the instruction clearly states each sequence should be 40 characters, so I abondoned that approach eventhough it gave me more sensible outputs. My initial thought is that the model shouldn't be making up words, because that just woundn't make sense. But after many trials and errors, the \"words\" the model spitted out are mostly actual words. I believe with a more complex model it will be able to spit out more sensible sentences. I also combined both txt files so I would have a larger training sample. Each possible 40 character sequence was a training sample, except for maybe the last one. But to speed up training, I sampled every 15 sequences. \n",
    "\n",
    "ii.\n",
    "I checked the average syllable count for each \"stence,\" which didn't help much in my case, since I ended up choosing a character based approach, and I wasn't able to incoperate word's pronounciation into one of the features. I also checked most common characters, words, and symbols, which help me realized my model was spitting out the most common character after the last input character in one of my failed attempts."
   ]
  },
  {
   "cell_type": "code",
   "execution_count": 16,
   "metadata": {
    "ExecuteTime": {
     "end_time": "2024-01-20T20:16:05.764282Z",
     "start_time": "2024-01-20T20:16:05.700430Z"
    }
   },
   "outputs": [],
   "source": [
    "# txt file processing\n",
    "def process_text(filePasses):\n",
    "    dataSh = open(filePasses[0], 'r').read().lower()\n",
    "    dataSp = open(filePasses[0],'r').read()\n",
    "    dataSp = re.sub('[A-Z]+\\n\\n', '', dataSp)\n",
    "    dataSp = dataSp.lower()\n",
    "    data = dataSh + dataSp\n",
    "    dataText = re.sub('\\d+', '', data)\n",
    "    dataText = re.sub(' +', ' ', dataText)\n",
    "    dataSet = list(set(dataText))\n",
    "    int2char = dict(enumerate(dataSet))\n",
    "    char2int = {c: i for i, c in int2char.items()}\n",
    "    data = np.array([char2int[ch] for ch in dataText])\n",
    "\n",
    "    return dataText, dataSet, int2char, char2int, data\n",
    "\n",
    "text, chars, int2char, char2int, data = process_text([shakespeare, spenser])\n",
    "\n"
   ]
  },
  {
   "cell_type": "code",
   "outputs": [
    {
     "data": {
      "text/plain": "<Figure size 640x480 with 1 Axes>",
      "image/png": "[encoded data removed]"
     },
     "metadata": {},
     "output_type": "display_data"
    }
   ],
   "source": [
    "import matplotlib.pyplot as plt\n",
    "\n",
    "count = {}\n",
    "for i in text:\n",
    "    if i in count.keys():\n",
    "        count[i] += 1\n",
    "    else:\n",
    "        count[i] = 1\n",
    "plt.bar(range(len(count)), list(count.values()), tick_label=list(count.keys()))\n",
    "plt.show()"
   ],
   "metadata": {
    "ExecuteTime": {
     "end_time": "2024-01-20T20:16:05.697761Z",
     "start_time": "2024-01-20T20:16:05.559095Z"
    }
   },
   "execution_count": 15
  },
  {
   "cell_type": "code",
   "execution_count": 17,
   "metadata": {
    "ExecuteTime": {
     "end_time": "2024-01-20T20:16:07.703954Z",
     "start_time": "2024-01-20T20:16:05.725729Z"
    }
   },
   "outputs": [],
   "source": [
    "# pre training \n",
    "seq_length = 40\n",
    "charsSize = len(chars)\n",
    "slices = len(text) - 1 - seq_length\n",
    "\n",
    "X = np.zeros((slices, seq_length, charsSize))\n",
    "y = np.zeros((slices, seq_length))\n",
    "\n",
    "for i in range(0, slices):\n",
    "    X_sequence = text[i:i+seq_length]\n",
    "    X_sequence_ix = [char2int[value] for value in X_sequence]\n",
    "    input_sequence = np.zeros((seq_length, charsSize))\n",
    "    for j in range(seq_length):\n",
    "        input_sequence[j][X_sequence_ix[j]] = 1.\n",
    "    X[i] = input_sequence\n",
    "\n",
    "    y_sequence = data[i+1: i+seq_length+1]\n",
    "    y[i] = y_sequence\n"
   ]
  },
  {
   "cell_type": "code",
   "execution_count": 18,
   "metadata": {
    "ExecuteTime": {
     "end_time": "2024-01-20T20:16:08.472094Z",
     "start_time": "2024-01-20T20:16:07.711064Z"
    }
   },
   "outputs": [],
   "source": [
    "n = 15\n",
    "X = torch.tensor(X)\n",
    "y = torch.tensor(y)\n",
    "y = y.type(torch.LongTensor)\n",
    "X = X[::n]\n",
    "y = y[::n]\n",
    "train = utils.TensorDataset(X, y)"
   ]
  },
  {
   "cell_type": "code",
   "execution_count": 19,
   "metadata": {
    "ExecuteTime": {
     "end_time": "2024-01-20T20:16:08.487248Z",
     "start_time": "2024-01-20T20:16:08.471513Z"
    }
   },
   "outputs": [],
   "source": [
    "batch_size = 100\n",
    "train_dataloader = utils.DataLoader(train, batch_size = batch_size, drop_last = True)\n"
   ]
  },
  {
   "cell_type": "markdown",
   "metadata": {},
   "source": [
    "Problem B:\n",
    "\n",
    "i. The model I implemended has two layers, one LSTM w 200 hidden units, and a one-hot encoding of a character being the input, and a fully connected layer that outputs all possible characters and their corresponding possibilities. To predict, I draw the most likely character. Sequence length is 40, sampling every 15 input data as training. I wasn't too concerned with overfitting, since it is a relatively simple model. The final learning rate is .005 and I find training for 100 epoachs to be sufficient enough. The poem I ended up generating was mid. The model spitted out mostly recognizable words but it failed to follow the structure very strickly, but that might be the sequence isn't long enough or that the model was too simple. \n",
    "\n",
    "ii.\n",
    "I trained on around 180000 training points, sampled every 15 set so a little more than 10000 training examples, for 100 epochs. The model didn't really learn the structure, but some of the outputs I got suggested that I does break things into stances and poems. \n",
    "\n",
    "iii.\n",
    "The output is all the way in the end.\n",
    "From what I can tell, the lower the temperature is the more likely it is for the output to make sense\n"
   ]
  },
  {
   "cell_type": "code",
   "execution_count": 20,
   "metadata": {
    "ExecuteTime": {
     "end_time": "2024-01-20T20:16:08.489936Z",
     "start_time": "2024-01-20T20:16:08.485236Z"
    }
   },
   "outputs": [],
   "source": [
    "#model\n",
    "class ShakespeareLSTM(nn. Module):\n",
    "    \n",
    "    def __init__(self, n_hidden, n_layers, lr, T):\n",
    "        super().__init__()\n",
    "        self.lr = lr\n",
    "        self.n_layers = n_layers\n",
    "        self.hidden_size = n_hidden\n",
    "        self.seq_length = 40\n",
    "        self.input_size = 38\n",
    "        self.output_size = self.input_size\n",
    "        \n",
    "        #layers\n",
    "        self.lstm = nn.LSTM(self.input_size, self.hidden_size, self.n_layers, \n",
    "                            batch_first = True)\n",
    "        self.FC = nn.Linear(self.hidden_size, self.output_size)\n",
    "\n",
    "        \n",
    "        \n",
    "    def forward(self, x, hidden):\n",
    "        out, hidden = self.lstm(x, hidden)\n",
    "        out = out.reshape(-1,self.hidden_size)\n",
    "        out = self.FC(out)\n",
    "        return out, hidden\n",
    "    \n",
    "    \n",
    "    def init_hidden(self, batch_size):\n",
    "        weights = next(self.parameters()).data\n",
    "        hidden = (weights.new(self.n_layers, batch_size, self.hidden_size).zero_(),\n",
    "                  weights.new(self.n_layers, batch_size, self.hidden_size).zero_())\n",
    "        return hidden\n",
    "    "
   ]
  },
  {
   "cell_type": "code",
   "outputs": [
    {
     "data": {
      "text/plain": "(torch.Size([12610, 40, 38]), torch.Size([12610, 40]))"
     },
     "execution_count": 38,
     "metadata": {},
     "output_type": "execute_result"
    }
   ],
   "source": [
    "X.shape, y.shape"
   ],
   "metadata": {
    "collapsed": false,
    "ExecuteTime": {
     "end_time": "2024-01-20T20:58:19.382947Z",
     "start_time": "2024-01-20T20:58:19.375908Z"
    }
   },
   "execution_count": 38
  },
  {
   "cell_type": "code",
   "execution_count": 21,
   "metadata": {
    "ExecuteTime": {
     "end_time": "2024-01-20T20:16:08.497496Z",
     "start_time": "2024-01-20T20:16:08.490671Z"
    }
   },
   "outputs": [],
   "source": [
    "def train(model, epochs, lr):\n",
    "    \n",
    "    optimizer = torch.optim.Adam(model.parameters(), lr = lr)\n",
    "    lossF = nn.CrossEntropyLoss()\n",
    "    for epoch in range(epochs):\n",
    "        model.train()\n",
    "        epoch_loss = 0\n",
    "        h = model.init_hidden(batch_size)\n",
    "        for X, y in train_dataloader:\n",
    "            h = tuple([each.data for each in h])\n",
    "            optimizer.zero_grad()\n",
    "            output, h = model(X.float(), h)\n",
    "            loss = lossF(output, y.view(batch_size*40))\n",
    "            epoch_loss += loss\n",
    "            loss.backward()\n",
    "            optimizer.step()\n",
    "            \n",
    "        print(f\"Epoch: {epoch+1} Loss:{epoch_loss/len(train_dataloader)}\")\n",
    "        \n",
    "    return model\n",
    "        \n",
    "\n"
   ]
  },
  {
   "cell_type": "code",
   "execution_count": 25,
   "metadata": {
    "ExecuteTime": {
     "end_time": "2024-01-20T20:20:41.264829Z",
     "start_time": "2024-01-20T20:20:41.260617Z"
    }
   },
   "outputs": [],
   "source": [
    "# Hyperparameters\n",
    "n_hidden = 200\n",
    "n_layers = 1\n",
    "lr = 0.005\n",
    "epochs = 40\n",
    "\n",
    "m = ShakespeareLSTM(n_hidden,n_layers,lr,None)"
   ]
  },
  {
   "cell_type": "code",
   "execution_count": 26,
   "metadata": {
    "scrolled": true,
    "ExecuteTime": {
     "end_time": "2024-01-20T20:30:24.270145Z",
     "start_time": "2024-01-20T20:20:41.265345Z"
    }
   },
   "outputs": [
    {
     "name": "stdout",
     "output_type": "stream",
     "text": [
      "Epoch: 1 Loss:2.522648334503174\n",
      "Epoch: 2 Loss:1.994085669517517\n",
      "Epoch: 3 Loss:1.8164949417114258\n",
      "Epoch: 4 Loss:1.7089512348175049\n",
      "Epoch: 5 Loss:1.6292895078659058\n",
      "Epoch: 6 Loss:1.5588490962982178\n",
      "Epoch: 7 Loss:1.5033636093139648\n",
      "Epoch: 8 Loss:1.458914041519165\n",
      "Epoch: 9 Loss:1.4148130416870117\n",
      "Epoch: 10 Loss:1.370316982269287\n",
      "Epoch: 11 Loss:1.3422300815582275\n",
      "Epoch: 12 Loss:1.3108000755310059\n",
      "Epoch: 13 Loss:1.2782973051071167\n",
      "Epoch: 14 Loss:1.2519302368164062\n",
      "Epoch: 15 Loss:1.2331702709197998\n",
      "Epoch: 16 Loss:1.2203878164291382\n",
      "Epoch: 17 Loss:1.2019574642181396\n",
      "Epoch: 18 Loss:1.175187349319458\n",
      "Epoch: 19 Loss:1.1510448455810547\n",
      "Epoch: 20 Loss:1.1270962953567505\n",
      "Epoch: 21 Loss:1.108883261680603\n",
      "Epoch: 22 Loss:1.095689058303833\n",
      "Epoch: 23 Loss:1.0836652517318726\n",
      "Epoch: 24 Loss:1.0761500597000122\n",
      "Epoch: 25 Loss:1.064795732498169\n",
      "Epoch: 26 Loss:1.049681544303894\n",
      "Epoch: 27 Loss:1.040641188621521\n",
      "Epoch: 28 Loss:1.0271307229995728\n",
      "Epoch: 29 Loss:1.0156227350234985\n",
      "Epoch: 30 Loss:1.0100957155227661\n",
      "Epoch: 31 Loss:1.00237238407135\n",
      "Epoch: 32 Loss:0.9917280673980713\n",
      "Epoch: 33 Loss:0.9797220230102539\n",
      "Epoch: 34 Loss:0.972358763217926\n",
      "Epoch: 35 Loss:0.9684954285621643\n",
      "Epoch: 36 Loss:0.963415265083313\n",
      "Epoch: 37 Loss:0.9579690098762512\n",
      "Epoch: 38 Loss:0.948998212814331\n",
      "Epoch: 39 Loss:0.9402254819869995\n",
      "Epoch: 40 Loss:0.9356826543807983\n"
     ]
    }
   ],
   "source": [
    "##Train the model\n",
    "outModel = train(m, epochs, lr)"
   ]
  },
  {
   "cell_type": "code",
   "execution_count": 27,
   "metadata": {
    "ExecuteTime": {
     "end_time": "2024-01-20T20:30:24.278321Z",
     "start_time": "2024-01-20T20:30:24.275448Z"
    }
   },
   "outputs": [],
   "source": [
    "def predict(model, start, T, h):\n",
    "    model.eval() \n",
    "    x = [char2int[i] for i in start]\n",
    "    for i in range(len(x)):\n",
    "        b = np.zeros(38)\n",
    "        b[x[i]] = 1\n",
    "        x[i] = b\n",
    "    x = [x]\n",
    "    x = torch.tensor(x, dtype = torch.float)\n",
    "    h = tuple([i.data for i in h])\n",
    "    output, h = model(x,h)\n",
    "    p = F.softmax(output/T,dim =1)\n",
    "    p = p[0]\n",
    "    character = int2char[int(torch.argmax(p))]\n",
    "    return character,h\n",
    "\n",
    "\n",
    "def generate_text(model, start, T, num_char):\n",
    "    model.eval()\n",
    "    chars = list(start)\n",
    "    h = model.init_hidden(1)  \n",
    "    for i in start:\n",
    "        char,h = predict(model, i, T, h)\n",
    "    chars.append(char)\n",
    "    \n",
    "    for i in range(num_char):\n",
    "        char,h = predict(model, chars[-1], T, h)\n",
    "        chars.append(char)\n",
    "        \n",
    "    return \"\".join(chars)\n",
    "    "
   ]
  },
  {
   "cell_type": "code",
   "execution_count": 28,
   "metadata": {
    "ExecuteTime": {
     "end_time": "2024-01-20T20:30:24.281415Z",
     "start_time": "2024-01-20T20:30:24.278779Z"
    }
   },
   "outputs": [],
   "source": [
    "s = \"shall i compare thee to a summer's day? \\n\""
   ]
  },
  {
   "cell_type": "code",
   "execution_count": 31,
   "metadata": {
    "ExecuteTime": {
     "end_time": "2024-01-20T20:31:52.204774Z",
     "start_time": "2024-01-20T20:31:51.987336Z"
    }
   },
   "outputs": [
    {
     "name": "stderr",
     "output_type": "stream",
     "text": [
      "/var/folders/76/2ttwxdjj1qx_z9ztrhctc3nw0000gp/T/ipykernel_92554/929942359.py:9: UserWarning: Creating a tensor from a list of numpy.ndarrays is extremely slow. Please consider converting the list to a single numpy.ndarray with numpy.array() before converting to a tensor. (Triggered internally at /Users/runner/work/pytorch/pytorch/pytorch/torch/csrc/utils/tensor_new.cpp:276.)\n",
      "  x = torch.tensor(x, dtype = torch.float)\n"
     ]
    },
    {
     "name": "stdout",
     "output_type": "stream",
     "text": [
      "shall i compare thee to a summer's day? \n",
      "\n",
      " \n",
      "then decreess of a conscience is my heart to says i do this played the breath the power to grace i swear that which thou dost have profined,\n",
      "or all the substance sounds with pleasure of thy hungs of light,\n",
      "where art thou my love, say the power to remavely boind doth bears\n",
      "my self thy beauty being made of their gld the stars in secred in the world to my deeds,\n",
      "thou mak'st true sight,\n",
      "and suppest i from my sin, and they so is place,\n",
      " whilst my body to his sweet husbandry of a fair a mannigal my \n"
     ]
    }
   ],
   "source": [
    "gentext150 = generate_text(outModel, s, 1.5, 500)\n",
    "gentext075 = generate_text(outModel, s, 0.75, 500)\n",
    "gentext025 = generate_text(outModel, s, 0.25, 500)\n",
    "print(gentext150)"
   ]
  },
  {
   "cell_type": "code",
   "execution_count": 32,
   "metadata": {
    "ExecuteTime": {
     "end_time": "2024-01-20T20:32:09.725572Z",
     "start_time": "2024-01-20T20:32:09.719016Z"
    }
   },
   "outputs": [
    {
     "name": "stdout",
     "output_type": "stream",
     "text": [
      "shall i compare thee to a summer's day? \n",
      "\n",
      " \n",
      "then decreess of a conscience is my heart to says i do this played the breath the power to grace i swear that which thou dost have profined,\n",
      "or all the substance sounds with pleasure of thy hungs of light,\n",
      "where art thou my love, say the power to remavely boind doth bears\n",
      "my self thy beauty being made of their gld the stars in secred in the world to my deeds,\n",
      "thou mak'st true sight,\n",
      "and suppest i from my sin, and they so is place,\n",
      " whilst my body to his sweet husbandry of a fair a mannigal my \n"
     ]
    }
   ],
   "source": [
    "print(gentext075)"
   ]
  },
  {
   "cell_type": "code",
   "execution_count": 33,
   "metadata": {
    "ExecuteTime": {
     "end_time": "2024-01-20T20:32:09.772604Z",
     "start_time": "2024-01-20T20:32:09.723565Z"
    }
   },
   "outputs": [
    {
     "name": "stdout",
     "output_type": "stream",
     "text": [
      "shall i compare thee to a summer's day? \n",
      "\n",
      " \n",
      "then decreess of a conscience is my heart to says i do this played the breath the power to grace i swear that which thou dost have profined,\n",
      "or all the substance sounds with pleasure of thy hungs of light,\n",
      "where art thou my love, say the power to remavely boind doth bears\n",
      "my self thy beauty being made of their gld the stars in secred in the world to my deeds,\n",
      "thou mak'st true sight,\n",
      "and suppest i from my sin, and they so is place,\n",
      " whilst my body to his sweet husbandry of a fair a mannigal my \n"
     ]
    }
   ],
   "source": [
    "print(gentext025)"
   ]
  },
  {
   "cell_type": "code",
   "execution_count": 33,
   "metadata": {
    "ExecuteTime": {
     "end_time": "2024-01-20T20:32:09.773618Z",
     "start_time": "2024-01-20T20:32:09.727692Z"
    }
   },
   "outputs": [],
   "source": []
  }
 ],
 "metadata": {
  "kernelspec": {
   "display_name": "Python 3",
   "language": "python",
   "name": "python3"
  },
  "language_info": {
   "codemirror_mode": {
    "name": "ipython",
    "version": 3
   },
   "file_extension": ".py",
   "mimetype": "text/x-python",
   "name": "python",
   "nbconvert_exporter": "python",
   "pygments_lexer": "ipython3",
   "version": "3.8.3"
  }
 },
 "nbformat": 4,
 "nbformat_minor": 4
}
