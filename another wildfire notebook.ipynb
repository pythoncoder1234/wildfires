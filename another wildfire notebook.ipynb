{
 "cells": [
  {
   "cell_type": "markdown",
   "source": [
    "# Wildfires"
   ],
   "metadata": {
    "collapsed": false
   }
  },
  {
   "cell_type": "markdown",
   "source": [
    "# Preprocessing"
   ],
   "metadata": {
    "collapsed": false
   }
  },
  {
   "cell_type": "code",
   "execution_count": 59,
   "outputs": [],
   "source": [
    "import pandas as pd\n",
    "\n",
    "fire = pd.read_csv(\"fire_df_08_01.csv\")\n",
    "wind = pd.read_csv(\"wind_df_08_01.csv\")\n",
    "\n",
    "for df in [fire, wind]:\n",
    "    df['datetime'] = df['datetime'].apply(lambda time: pd.to_datetime(time).replace(second=0, microsecond=0))\n",
    "    df[['longitude', 'latitude']] = df[['longitude', 'latitude']].round(5)\n",
    "\n",
    "merge = pd.merge(fire, wind, how=\"outer\", on=[\"datetime\", \"longitude\", \"latitude\"])\n",
    "merge.to_csv(\"merge.csv\", index=False)"
   ],
   "metadata": {
    "collapsed": false,
    "ExecuteTime": {
     "end_time": "2023-10-08T00:32:08.529660Z",
     "start_time": "2023-10-08T00:31:55.345657Z"
    }
   }
  },
  {
   "cell_type": "code",
   "execution_count": 60,
   "outputs": [],
   "source": [
    "import pandas as pd\n",
    "\n",
    "fire = pd.read_csv(\"fire_df_08_01.csv\")\n",
    "wind = pd.read_csv(\"wind_df_08_01.csv\")\n",
    "\n",
    "for df in [fire, wind]:\n",
    "    df['datetime'] = df['datetime'].apply(lambda time: pd.to_datetime(time).replace(second=0, microsecond=0))\n",
    "    df[['longitude', 'latitude']] = df[['longitude', 'latitude']].round(5)\n",
    "\n",
    "merge = pd.merge_ordered(fire, wind, how=\"left\", on=['datetime', 'longitude', 'latitude'], fill_method='ffill')\n",
    "merge.to_csv(\"merge.csv\", index=False)"
   ],
   "metadata": {
    "collapsed": false,
    "ExecuteTime": {
     "end_time": "2023-10-08T00:32:22.281442Z",
     "start_time": "2023-10-08T00:32:08.531338Z"
    }
   }
  },
  {
   "cell_type": "markdown",
   "source": [
    "# Format data"
   ],
   "metadata": {
    "collapsed": false
   }
  },
  {
   "cell_type": "code",
   "execution_count": 61,
   "outputs": [],
   "source": [
    "from sklearn.preprocessing import normalize\n",
    "import numpy as np\n",
    "\n",
    "def process_fire(row):\n",
    "    return np.array(np.nan_to_num(row))\n",
    "\n",
    "merge = pd.read_csv(\"merge.csv\")\n",
    "merge = merge.sort_values(['longitude', 'latitude'])\n",
    "grouped = merge.groupby('datetime')\n",
    "\n",
    "wind = grouped['speed'].apply(np.array).to_list()\n",
    "fire = np.array(grouped['Power'].apply(process_fire).to_list())\n",
    "fire = normalize(fire)"
   ],
   "metadata": {
    "collapsed": false,
    "ExecuteTime": {
     "end_time": "2023-10-08T00:32:22.569540Z",
     "start_time": "2023-10-08T00:32:22.282527Z"
    }
   }
  },
  {
   "cell_type": "markdown",
   "source": [
    "# Define and train model"
   ],
   "metadata": {
    "collapsed": false
   }
  },
  {
   "cell_type": "code",
   "execution_count": 62,
   "outputs": [],
   "source": [
    "from torch.utils.data import Dataset\n",
    "import torch\n",
    "import torch.nn as nn\n",
    "import torch.optim as optim\n",
    "\n",
    "class MLP(nn.Module):\n",
    "    def __init__(self, input_size, hidden_size, output_size):\n",
    "        super(MLP, self).__init__()\n",
    "        self.fc1 = nn.Linear(input_size, hidden_size)\n",
    "        self.relu = nn.ReLU()\n",
    "        self.fc2 = nn.Linear(hidden_size, output_size)\n",
    "        \n",
    "    def forward(self, x):\n",
    "        out = self.fc1(x)\n",
    "        out = self.relu(out)\n",
    "        out = self.fc2(out)\n",
    "        return out\n",
    "    \n",
    "\n",
    "class CustomDataset(Dataset):\n",
    "    def __init__(self, features, labels):\n",
    "        self.features = torch.from_numpy(features).float()\n",
    "        self.labels = torch.from_numpy(labels).float()\n",
    "        \n",
    "    def __len__(self):\n",
    "        return len(self.features)\n",
    "    \n",
    "    def __getitem__(self, idx):\n",
    "        return self.features[idx], self.labels[idx]"
   ],
   "metadata": {
    "collapsed": false,
    "ExecuteTime": {
     "end_time": "2023-10-08T00:32:22.572995Z",
     "start_time": "2023-10-08T00:32:22.571073Z"
    }
   }
  },
  {
   "cell_type": "code",
   "execution_count": 68,
   "outputs": [],
   "source": [
    "def train(model, train_loader, test_loader, criterion, optimizer, num_epochs):\n",
    "    train_loss = []\n",
    "    test_loss = []\n",
    "    \n",
    "    for epoch in range(num_epochs):\n",
    "        total_loss = 0.0\n",
    "        test_loss.append(test(model, criterion, test_loader))\n",
    "        \n",
    "        for i, (inputs, labels) in enumerate(train_loader):\n",
    "            optimizer.zero_grad()\n",
    "            outputs = model(inputs)\n",
    "            loss = criterion(outputs, labels)\n",
    "            loss.backward()\n",
    "            optimizer.step()\n",
    "            total_loss += loss.item()\n",
    "            \n",
    "        train_loss.append(total_loss)\n",
    "\n",
    "        # Print the average loss for this epoch\n",
    "        print(f'Epoch [{epoch + 1}/{num_epochs}], Loss: {total_loss / len(train_loader)}')\n",
    "        \n",
    "    return train_loss, test_loss\n",
    "\n",
    "\n",
    "def test(model: MLP, criterion, dl):\n",
    "    model.eval()\n",
    "    total_loss = 0\n",
    "    for i, (inputs, labels) in enumerate(dl):\n",
    "        predicted = model(inputs)\n",
    "        loss = criterion(predicted, labels)\n",
    "        total_loss += loss.item()\n",
    "        \n",
    "    return total_loss"
   ],
   "metadata": {
    "collapsed": false,
    "ExecuteTime": {
     "end_time": "2023-10-08T00:34:05.564805Z",
     "start_time": "2023-10-08T00:34:05.547181Z"
    }
   }
  },
  {
   "cell_type": "code",
   "execution_count": 69,
   "outputs": [
    {
     "name": "stdout",
     "output_type": "stream",
     "text": [
      "(144, 6160)\n",
      "Epoch [1/10], Loss: 0.055570986714552746\n",
      "Epoch [2/10], Loss: 0.03483173335817727\n",
      "Epoch [3/10], Loss: 0.02437980684705756\n",
      "Epoch [4/10], Loss: 0.01798832331868735\n",
      "Epoch [5/10], Loss: 0.013659565963528374\n",
      "Epoch [6/10], Loss: 0.011200239035216246\n",
      "Epoch [7/10], Loss: 0.009262935766442255\n",
      "Epoch [8/10], Loss: 0.0076526050371202555\n",
      "Epoch [9/10], Loss: 0.006619273938915946\n",
      "Epoch [10/10], Loss: 0.005771556128324432\n"
     ]
    },
    {
     "data": {
      "text/plain": "<Figure size 640x480 with 1 Axes>",
      "image/png": "[encoded data removed]"
     },
     "metadata": {},
     "output_type": "display_data"
    }
   ],
   "source": [
    "from torch.utils.data import DataLoader\n",
    "import numpy as np\n",
    "from sklearn.model_selection import train_test_split\n",
    "\n",
    "data = np.hstack((fire, wind))\n",
    "print(\"Data shape:\", data.shape)\n",
    "\n",
    "train_x, test_x, train_y, test_y = train_test_split(data[:-1], fire[1:])\n",
    "train_dl = DataLoader(CustomDataset(train_x, train_y), batch_size=10, shuffle=True)\n",
    "test_dl = DataLoader(CustomDataset(test_x, test_y), batch_size=10, shuffle=True)\n",
    "\n",
    "epochs = 10\n",
    "loss_func = nn.MSELoss()\n",
    "mlp = MLP(data.shape[1], 5000, data.shape[1] // 2)\n",
    "train_loss, test_loss = train(mlp, train_dl, test_dl, loss_func, optim.SGD(mlp.parameters(), lr=0.01), epochs)\n",
    "from matplotlib import pyplot as plt\n",
    "\n",
    "def plot_loss(train_loss, test_loss):\n",
    "    plt.plot(range(1, len(train_loss) + 1), train_loss, label=\"Training loss\")\n",
    "    plt.plot(range(1, len(test_loss) + 1), test_loss, label=\"Test loss\")\n",
    "    plt.xlabel(\"Epoch\")\n",
    "    plt.ylabel(\"Loss ($L2$)\")\n",
    "    plt.legend()\n",
    "    plt.show()\n",
    "    \n",
    "plot_loss(train_loss, test_loss)"
   ],
   "metadata": {
    "collapsed": false,
    "ExecuteTime": {
     "end_time": "2023-10-08T00:34:09.447767Z",
     "start_time": "2023-10-08T00:34:05.553161Z"
    }
   }
  }
 ],
 "metadata": {
  "kernelspec": {
   "display_name": "Python 3 (ipykernel)",
   "language": "python",
   "name": "python3"
  },
  "language_info": {
   "codemirror_mode": {
    "name": "ipython",
    "version": 3
   },
   "file_extension": ".py",
   "mimetype": "text/x-python",
   "name": "python",
   "nbconvert_exporter": "python",
   "pygments_lexer": "ipython3",
   "version": "3.10.5"
  }
 },
 "nbformat": 4,
 "nbformat_minor": 1
}
