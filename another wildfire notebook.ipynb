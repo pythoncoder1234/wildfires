{
 "cells": [
  {
   "cell_type": "markdown",
   "metadata": {},
   "source": []
  },
  {
   "cell_type": "markdown",
   "metadata": {},
   "source": [
    "# Wildfires\n",
    "\n",
    "Initialize Earthengine"
   ]
  },
  {
   "cell_type": "code",
   "execution_count": null,
   "metadata": {
    "collapsed": true
   },
   "outputs": [],
   "source": [
    "import ee\n",
    "ee.Authenticate()\n",
    "ee.Initialize()"
   ]
  },
  {
   "cell_type": "markdown",
   "metadata": {},
   "source": [
    "Download Data"
   ]
  },
  {
   "cell_type": "code",
   "execution_count": null,
   "metadata": {},
   "outputs": [],
   "source": [
    "from earthengine.init import *\n",
    "from earthengine.fetch import *"
   ]
  },
  {
   "cell_type": "markdown",
   "metadata": {},
   "source": [
    "Process and Analyze Data into 2D matrices, saved into new .csv files"
   ]
  },
  {
   "cell_type": "code",
   "execution_count": 53,
   "metadata": {
    "ExecuteTime": {
     "end_time": "2023-09-14T04:20:35.081237Z",
     "start_time": "2023-09-14T04:20:35.071271Z"
    }
   },
   "outputs": [
    {
     "ename": "NameError",
     "evalue": "name 'time_interp' is not defined",
     "output_type": "error",
     "traceback": [
      "\u001B[0;31m---------------------------------------------------------------------------\u001B[0m",
      "\u001B[0;31mNameError\u001B[0m                                 Traceback (most recent call last)",
      "Cell \u001B[0;32mIn[53], line 6\u001B[0m\n\u001B[1;32m      3\u001B[0m FIRE_DF_PATH \u001B[38;5;241m=\u001B[39m \u001B[38;5;124m\"\u001B[39m\u001B[38;5;124mfire_df_08_05.csv\u001B[39m\u001B[38;5;124m\"\u001B[39m\n\u001B[1;32m      4\u001B[0m WIND_DF_PATH \u001B[38;5;241m=\u001B[39m \u001B[38;5;124m\"\u001B[39m\u001B[38;5;124mwind_df_08_05.csv\u001B[39m\u001B[38;5;124m\"\u001B[39m\n\u001B[0;32m----> 6\u001B[0m \u001B[43mtime_interp\u001B[49m(data_path\u001B[38;5;241m=\u001B[39mWIND_DF_PATH)\n\u001B[1;32m      8\u001B[0m \u001B[38;5;28;01mfrom\u001B[39;00m \u001B[38;5;21;01mpreprocessing\u001B[39;00m \u001B[38;5;28;01mimport\u001B[39;00m \u001B[38;5;241m*\u001B[39m\n\u001B[1;32m      9\u001B[0m preprocess(data_path\u001B[38;5;241m=\u001B[39mFIRE_DF_PATH)\n",
      "\u001B[0;31mNameError\u001B[0m: name 'time_interp' is not defined"
     ]
    }
   ],
   "source": [
    "FIRE_DF_PATH = \"fire_df_08_05.csv\"\n",
    "WIND_DF_PATH = \"wind_df_08_05.csv\"\n",
    "\n",
    "from timeinterp import *\n",
    "\n",
    "time_interp(data_path=WIND_DF_PATH)\n",
    "\n",
    "from preprocessing import *\n",
    "preprocess(data_path=FIRE_DF_PATH)\n",
    "\n",
    "from cross_correlation import *\n"
   ]
  },
  {
   "cell_type": "code",
   "execution_count": null,
   "metadata": {},
   "outputs": [],
   "source": []
  }
 ],
 "metadata": {
  "kernelspec": {
   "display_name": "Python 3 (ipykernel)",
   "language": "python",
   "name": "python3"
  },
  "language_info": {
   "codemirror_mode": {
    "name": "ipython",
    "version": 3
   },
   "file_extension": ".py",
   "mimetype": "text/x-python",
   "name": "python",
   "nbconvert_exporter": "python",
   "pygments_lexer": "ipython3",
   "version": "3.10.5"
  }
 },
 "nbformat": 4,
 "nbformat_minor": 1
}
