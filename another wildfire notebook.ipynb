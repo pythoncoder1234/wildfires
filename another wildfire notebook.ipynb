{
 "cells": [
  {
   "cell_type": "markdown",
   "metadata": {},
   "source": [
    "# Wildfires\n",
    "\n",
    "Create directories (if they don't exist already)"
   ]
  },
  {
   "cell_type": "code",
   "execution_count": null,
   "outputs": [],
   "source": [
    "import os\n",
    "\n",
    "print(\"Current working directory: \" + os.getcwd())\n",
    "for dir_name in [\"wind_interp\", \"fire_grid, lag\", \"correlation\"]:\n",
    "    if not os.path.exists(dir_name):\n",
    "        os.mkdir(dir_name)"
   ],
   "metadata": {
    "collapsed": false
   }
  },
  {
   "cell_type": "markdown",
   "metadata": {},
   "source": [
    "Load the fire and wind data saved in csv file. The fire data is every 10 mins.\n",
    "The wind data is every 60 mins, and interpolated to 10 mins.\n",
    "\n",
    "Save the generated fire data in 2D matrices under fire_grid directory\n",
    "Save the generated wind data in 2D matrices under wind_interp directory."
   ]
  },
  {
   "cell_type": "markdown",
   "source": [],
   "metadata": {
    "collapsed": false
   }
  },
  {
   "cell_type": "markdown",
   "source": [
    "# Preprocessing"
   ],
   "metadata": {
    "collapsed": false
   }
  },
  {
   "cell_type": "code",
   "execution_count": null,
   "metadata": {},
   "outputs": [],
   "source": [
    "FIRE_DF_PATH = \"fire_df_08_05.csv\"\n",
    "WIND_DF_PATH = \"wind_df_08_05.csv\"\n",
    "\n",
    "from timeinterp import *\n",
    "time_interp(data_path=WIND_DF_PATH)\n",
    "\n",
    "from preprocessing import *\n",
    "preprocess(data_path=FIRE_DF_PATH)\n",
    "\n",
    "from cross_correlation import *\n"
   ]
  },
  {
   "cell_type": "code",
   "execution_count": null,
   "outputs": [],
   "source": [
    "import pandas as pd\n",
    "\n",
    "fire = pd.read_csv(\"fire_df_08_01.csv\")\n",
    "wind = pd.read_csv(\"wind_df_08_01.csv\")\n",
    "\n",
    "for df in [fire, wind]:\n",
    "    df['datetime'] = df['datetime'].apply(lambda time: pd.to_datetime(time).replace(second=0, microsecond=0))\n",
    "    df[['longitude', 'latitude']] = df[['longitude', 'latitude']].round(5)\n",
    "\n",
    "merge = pd.merge(fire, wind, how=\"outer\", on=[\"datetime\", \"longitude\", \"latitude\"])\n",
    "merge.to_csv(\"merge.csv\", index=False)"
   ],
   "metadata": {
    "collapsed": false
   }
  },
  {
   "cell_type": "code",
   "execution_count": null,
   "outputs": [],
   "source": [
    "import pandas as pd\n",
    "\n",
    "fire = pd.read_csv(\"fire_df_08_01.csv\")\n",
    "wind = pd.read_csv(\"wind_df_08_01.csv\")\n",
    "\n",
    "for df in [fire, wind]:\n",
    "    df['datetime'] = df['datetime'].apply(lambda time: pd.to_datetime(time).replace(second=0, microsecond=0))\n",
    "    df[['longitude', 'latitude']] = df[['longitude', 'latitude']].round(5)\n",
    "\n",
    "merge = pd.merge_ordered(fire, wind, how=\"left\", on=['datetime', 'longitude', 'latitude'], fill_method='ffill')\n",
    "merge.to_csv(\"merge.csv\", index=False)"
   ],
   "metadata": {
    "collapsed": false
   }
  },
  {
   "cell_type": "markdown",
   "source": [
    "# Format data"
   ],
   "metadata": {
    "collapsed": false
   }
  },
  {
   "cell_type": "code",
   "execution_count": 12,
   "outputs": [],
   "source": [
    "import pandas as pd\n",
    "import numpy as np\n",
    "\n",
    "def process_fire(row):\n",
    "    return np.nan_to_num(np.array(row))\n",
    "\n",
    "merge = pd.read_csv(\"merge.csv\")\n",
    "merge = merge.sort_values(['longitude', 'latitude'])\n",
    "grouped = merge.groupby('datetime')\n",
    "\n",
    "wind = grouped['speed'].apply(np.array).to_list()\n",
    "fire = np.array(grouped['Power'].apply(process_fire).to_list())"
   ],
   "metadata": {
    "collapsed": false,
    "ExecuteTime": {
     "end_time": "2023-10-07T23:24:25.124141Z",
     "start_time": "2023-10-07T23:24:25.055986Z"
    }
   }
  },
  {
   "cell_type": "markdown",
   "source": [
    "# Define and train model"
   ],
   "metadata": {
    "collapsed": false
   }
  },
  {
   "cell_type": "code",
   "execution_count": 13,
   "outputs": [],
   "source": [
    "from torch.utils.data import Dataset\n",
    "import torch\n",
    "import torch.nn as nn\n",
    "import torch.optim as optim\n",
    "\n",
    "class MLP(nn.Module):\n",
    "    def __init__(self, input_size, hidden_size, output_size):\n",
    "        super(MLP, self).__init__()\n",
    "        self.fc1 = nn.Linear(input_size, hidden_size)\n",
    "        self.relu = nn.ReLU()\n",
    "        self.fc2 = nn.Linear(hidden_size, output_size)\n",
    "        \n",
    "    def forward(self, x):\n",
    "        out = self.fc1(x)\n",
    "        out = self.relu(out)\n",
    "        out = self.fc2(out)\n",
    "        return out\n",
    "    \n",
    "\n",
    "class CustomDataset(Dataset):\n",
    "    def __init__(self, features, labels):\n",
    "        self.features = torch.from_numpy(features).float()\n",
    "        self.labels = torch.from_numpy(labels).float()\n",
    "        \n",
    "    def __len__(self):\n",
    "        return len(self.features)\n",
    "    \n",
    "    def __getitem__(self, idx):\n",
    "        return self.features[idx], self.labels[idx]\n",
    "\n",
    "\n",
    "outputs = labels = None\n",
    "losses = []\n",
    "    \n",
    "def train(model, train_loader, criterion, optimizer, num_epochs):\n",
    "    global outputs, labels, losses\n",
    "    losses = []\n",
    "    \n",
    "    for epoch in range(num_epochs):\n",
    "        total_loss = 0.0\n",
    "        \n",
    "        for i, (inputs, labels) in enumerate(train_loader):\n",
    "            optimizer.zero_grad()\n",
    "            outputs = model(inputs)\n",
    "            loss = criterion(outputs, labels)\n",
    "            loss.backward()\n",
    "            optimizer.step()\n",
    "            total_loss += loss.item()\n",
    "            \n",
    "        losses.append(total_loss)\n",
    "\n",
    "        # Print the average loss for this epoch\n",
    "        print(f'Epoch [{epoch + 1}/{num_epochs}], Loss: {total_loss / len(train_loader)}')"
   ],
   "metadata": {
    "collapsed": false,
    "ExecuteTime": {
     "end_time": "2023-10-07T23:24:25.130895Z",
     "start_time": "2023-10-07T23:24:25.127967Z"
    }
   }
  },
  {
   "cell_type": "code",
   "execution_count": 16,
   "outputs": [
    {
     "name": "stdout",
     "output_type": "stream",
     "text": [
      "(24, 6160)\n",
      "Epoch [1/5], Loss: 28.627253449481465\n",
      "Epoch [2/5], Loss: 22.157976109048594\n",
      "Epoch [3/5], Loss: 21.685259984887164\n",
      "Epoch [4/5], Loss: 21.66588891070822\n",
      "Epoch [5/5], Loss: 21.665816099747367\n"
     ]
    }
   ],
   "source": [
    "from torch.utils.data import DataLoader\n",
    "import numpy as np\n",
    "\n",
    "data = np.hstack((fire, wind))\n",
    "print(data.shape)\n",
    "\n",
    "epochs = 5\n",
    "ds = CustomDataset(data[:-1], fire[1:])\n",
    "dl = DataLoader(ds, batch_size=1, shuffle=True)\n",
    "mlp = MLP(data.shape[1], 5000, data.shape[1] // 2)\n",
    "train(mlp, dl, nn.L1Loss(), optim.SGD(mlp.parameters(), lr=0.01), epochs)"
   ],
   "metadata": {
    "collapsed": false,
    "ExecuteTime": {
     "end_time": "2023-10-07T23:27:06.186323Z",
     "start_time": "2023-10-07T23:27:01.242124Z"
    }
   }
  },
  {
   "cell_type": "code",
   "execution_count": 18,
   "outputs": [
    {
     "data": {
      "text/plain": "<Figure size 640x480 with 1 Axes>",
      "image/png": "[encoded data removed]"
     },
     "metadata": {},
     "output_type": "display_data"
    }
   ],
   "source": [
    "from matplotlib import pyplot as plt\n",
    "\n",
    "def plot_loss(arr):\n",
    "    plt.plot(range(1, len(arr)+1), arr)\n",
    "    plt.xlabel(\"Epoch\")\n",
    "    plt.ylabel(\"Loss ($L1$)\")\n",
    "    plt.show()\n",
    "    \n",
    "plot_loss(losses)"
   ],
   "metadata": {
    "collapsed": false,
    "ExecuteTime": {
     "end_time": "2023-10-07T23:27:14.422701Z",
     "start_time": "2023-10-07T23:27:14.356318Z"
    }
   }
  }
 ],
 "metadata": {
  "kernelspec": {
   "display_name": "Python 3 (ipykernel)",
   "language": "python",
   "name": "python3"
  },
  "language_info": {
   "codemirror_mode": {
    "name": "ipython",
    "version": 3
   },
   "file_extension": ".py",
   "mimetype": "text/x-python",
   "name": "python",
   "nbconvert_exporter": "python",
   "pygments_lexer": "ipython3",
   "version": "3.10.5"
  }
 },
 "nbformat": 4,
 "nbformat_minor": 1
}
