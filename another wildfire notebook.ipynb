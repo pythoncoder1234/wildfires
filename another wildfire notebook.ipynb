{
 "cells": [
  {
   "cell_type": "markdown",
   "metadata": {},
   "source": [
    "# Wildfires\n",
    "\n",
    "Create directories (if they don't exist already)"
   ]
  },
  {
   "cell_type": "code",
   "execution_count": null,
   "outputs": [],
   "source": [
    "import os\n",
    "\n",
    "print(\"Current working directory: \" + os.getcwd())\n",
    "for dir_name in [\"wind_interp\", \"fire_grid, lag\", \"correlation\"]:\n",
    "    if not os.path.exists(dir_name):\n",
    "        os.mkdir(dir_name)"
   ],
   "metadata": {
    "collapsed": false
   }
  },
  {
   "cell_type": "markdown",
   "metadata": {},
   "source": [
    "Load the fire and wind data saved in csv file. The fire data is every 10 mins.\n",
    "The wind data is every 60 mins, and interpolated to 10 mins.\n",
    "\n",
    "Save the generated fire data in 2D matrices under fire_grid directory\n",
    "Save the generated wind data in 2D matrices under wind_interp directory."
   ]
  },
  {
   "cell_type": "code",
   "execution_count": null,
   "metadata": {},
   "outputs": [],
   "source": [
    "FIRE_DF_PATH = \"fire_df_08_05.csv\"\n",
    "WIND_DF_PATH = \"wind_df_08_05.csv\"\n",
    "\n",
    "from timeinterp import *\n",
    "time_interp(data_path=WIND_DF_PATH)\n",
    "\n",
    "from preprocessing import *\n",
    "preprocess(data_path=FIRE_DF_PATH)\n",
    "\n",
    "from cross_correlation import *\n"
   ]
  },
  {
   "cell_type": "code",
   "execution_count": null,
   "outputs": [],
   "source": [
    "import pandas as pd\n",
    "\n",
    "fire = pd.read_csv(\"fire_df_08_01.csv\")\n",
    "wind = pd.read_csv(\"wind_df_08_01.csv\")\n",
    "\n",
    "for df in [fire, wind]:\n",
    "    df['datetime'] = df['datetime'].apply(lambda time: pd.to_datetime(time).replace(second=0, microsecond=0))\n",
    "    df[['longitude', 'latitude']] = df[['longitude', 'latitude']].round(5)\n",
    "\n",
    "merge = pd.merge(fire, wind, how=\"outer\", on=[\"datetime\", \"longitude\", \"latitude\"])\n",
    "merge.to_csv(\"merge.csv\", index=False)"
   ],
   "metadata": {
    "collapsed": false
   }
  }
 ],
 "metadata": {
  "kernelspec": {
   "display_name": "Python 3 (ipykernel)",
   "language": "python",
   "name": "python3"
  },
  "language_info": {
   "codemirror_mode": {
    "name": "ipython",
    "version": 3
   },
   "file_extension": ".py",
   "mimetype": "text/x-python",
   "name": "python",
   "nbconvert_exporter": "python",
   "pygments_lexer": "ipython3",
   "version": "3.10.5"
  }
 },
 "nbformat": 4,
 "nbformat_minor": 1
}
