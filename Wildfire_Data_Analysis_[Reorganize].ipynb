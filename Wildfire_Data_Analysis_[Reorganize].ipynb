{
 "nbformat": 4,
 "nbformat_minor": 0,
 "metadata": {
  "colab": {
   "provenance": [],
   "collapsed_sections": [
    "flKqLRAR59cr",
    "SOLMEkkS5y6r",
    "HM6jIvBy9PT_",
    "TbgaUNex9iIq",
    "FM2ui5Jq7VQ1",
    "nAwso6FL7y3C"
   ],
   "toc_visible": true
  },
  "kernelspec": {
   "name": "python3",
   "display_name": "Python 3"
  },
  "language_info": {
   "name": "python"
  }
 },
 "cells": [
  {
   "cell_type": "markdown",
   "source": [
    "# Wildfire Data Analysis\n",
    "\n",
    "Use the Table of Contents to navigate around.\n",
    "\n",
    "**You don't have to run this code to view the result.**\n",
    "\n",
    "But if you do, you will need a Google Earth Engine account."
   ],
   "metadata": {
    "id": "flKqLRAR59cr",
    "pycharm": {
     "name": "#%% md\n"
    }
   }
  },
  {
   "cell_type": "markdown",
   "source": [
    "# Gathering Data"
   ],
   "metadata": {
    "id": "8Xrqc1Pa8Ubs",
    "pycharm": {
     "name": "#%% md\n"
    }
   }
  },
  {
   "cell_type": "markdown",
   "source": [
    "Authentication and Initialization\n",
    "---\n"
   ],
   "metadata": {
    "id": "SOLMEkkS5y6r",
    "pycharm": {
     "name": "#%% md\n"
    }
   }
  },
  {
   "cell_type": "code",
   "execution_count": 4,
   "metadata": {
    "id": "aozPbJjN5nEz",
    "colab": {
     "base_uri": "https://localhost:8080/"
    },
    "outputId": "031ed510-2dda-46f7-e272-5e463a3e3b4b",
    "pycharm": {
     "name": "#%%\n"
    }
   },
   "outputs": [
    {
     "data": {
      "text/plain": "<IPython.core.display.HTML object>",
      "text/html": "<p>To authorize access needed by Earth Engine, open the following\n        URL in a web browser and follow the instructions:</p>\n        <p><a href=https://code.earthengine.google.com/client-auth?scopes=https%3A//www.googleapis.com/auth/earthengine%20https%3A//www.googleapis.com/auth/devstorage.full_control&request_id=Kk_YRH9EoEwWcdmhOCKvxH9ivX4RZmQyWBHyx7yx5eg&tc=FIFd10ZEbJFQ1aT-fferoU4vizrECd26S3FDoYYuzgA&cc=8NrMm9XQOu5zwuTMOMAAahQw_S2o_9H7PyxZ6vK22hA>https://code.earthengine.google.com/client-auth?scopes=https%3A//www.googleapis.com/auth/earthengine%20https%3A//www.googleapis.com/auth/devstorage.full_control&request_id=Kk_YRH9EoEwWcdmhOCKvxH9ivX4RZmQyWBHyx7yx5eg&tc=FIFd10ZEbJFQ1aT-fferoU4vizrECd26S3FDoYYuzgA&cc=8NrMm9XQOu5zwuTMOMAAahQw_S2o_9H7PyxZ6vK22hA</a></p>\n        <p>The authorization workflow will generate a code, which you should paste in the box below.</p>\n        "
     },
     "metadata": {},
     "output_type": "display_data"
    },
    {
     "ename": "URLError",
     "evalue": "<urlopen error [SSL: CERTIFICATE_VERIFY_FAILED] certificate verify failed: unable to get local issuer certificate (_ssl.c:997)>",
     "output_type": "error",
     "traceback": [
      "\u001B[0;31m---------------------------------------------------------------------------\u001B[0m",
      "\u001B[0;31mSSLCertVerificationError\u001B[0m                  Traceback (most recent call last)",
      "File \u001B[0;32m/Library/Frameworks/Python.framework/Versions/3.10/lib/python3.10/urllib/request.py:1348\u001B[0m, in \u001B[0;36mAbstractHTTPHandler.do_open\u001B[0;34m(self, http_class, req, **http_conn_args)\u001B[0m\n\u001B[1;32m   1347\u001B[0m \u001B[38;5;28;01mtry\u001B[39;00m:\n\u001B[0;32m-> 1348\u001B[0m     \u001B[43mh\u001B[49m\u001B[38;5;241;43m.\u001B[39;49m\u001B[43mrequest\u001B[49m\u001B[43m(\u001B[49m\u001B[43mreq\u001B[49m\u001B[38;5;241;43m.\u001B[39;49m\u001B[43mget_method\u001B[49m\u001B[43m(\u001B[49m\u001B[43m)\u001B[49m\u001B[43m,\u001B[49m\u001B[43m \u001B[49m\u001B[43mreq\u001B[49m\u001B[38;5;241;43m.\u001B[39;49m\u001B[43mselector\u001B[49m\u001B[43m,\u001B[49m\u001B[43m \u001B[49m\u001B[43mreq\u001B[49m\u001B[38;5;241;43m.\u001B[39;49m\u001B[43mdata\u001B[49m\u001B[43m,\u001B[49m\u001B[43m \u001B[49m\u001B[43mheaders\u001B[49m\u001B[43m,\u001B[49m\n\u001B[1;32m   1349\u001B[0m \u001B[43m              \u001B[49m\u001B[43mencode_chunked\u001B[49m\u001B[38;5;241;43m=\u001B[39;49m\u001B[43mreq\u001B[49m\u001B[38;5;241;43m.\u001B[39;49m\u001B[43mhas_header\u001B[49m\u001B[43m(\u001B[49m\u001B[38;5;124;43m'\u001B[39;49m\u001B[38;5;124;43mTransfer-encoding\u001B[39;49m\u001B[38;5;124;43m'\u001B[39;49m\u001B[43m)\u001B[49m\u001B[43m)\u001B[49m\n\u001B[1;32m   1350\u001B[0m \u001B[38;5;28;01mexcept\u001B[39;00m \u001B[38;5;167;01mOSError\u001B[39;00m \u001B[38;5;28;01mas\u001B[39;00m err: \u001B[38;5;66;03m# timeout error\u001B[39;00m\n",
      "File \u001B[0;32m/Library/Frameworks/Python.framework/Versions/3.10/lib/python3.10/http/client.py:1282\u001B[0m, in \u001B[0;36mHTTPConnection.request\u001B[0;34m(self, method, url, body, headers, encode_chunked)\u001B[0m\n\u001B[1;32m   1281\u001B[0m \u001B[38;5;124;03m\"\"\"Send a complete request to the server.\"\"\"\u001B[39;00m\n\u001B[0;32m-> 1282\u001B[0m \u001B[38;5;28;43mself\u001B[39;49m\u001B[38;5;241;43m.\u001B[39;49m\u001B[43m_send_request\u001B[49m\u001B[43m(\u001B[49m\u001B[43mmethod\u001B[49m\u001B[43m,\u001B[49m\u001B[43m \u001B[49m\u001B[43murl\u001B[49m\u001B[43m,\u001B[49m\u001B[43m \u001B[49m\u001B[43mbody\u001B[49m\u001B[43m,\u001B[49m\u001B[43m \u001B[49m\u001B[43mheaders\u001B[49m\u001B[43m,\u001B[49m\u001B[43m \u001B[49m\u001B[43mencode_chunked\u001B[49m\u001B[43m)\u001B[49m\n",
      "File \u001B[0;32m/Library/Frameworks/Python.framework/Versions/3.10/lib/python3.10/http/client.py:1328\u001B[0m, in \u001B[0;36mHTTPConnection._send_request\u001B[0;34m(self, method, url, body, headers, encode_chunked)\u001B[0m\n\u001B[1;32m   1327\u001B[0m     body \u001B[38;5;241m=\u001B[39m _encode(body, \u001B[38;5;124m'\u001B[39m\u001B[38;5;124mbody\u001B[39m\u001B[38;5;124m'\u001B[39m)\n\u001B[0;32m-> 1328\u001B[0m \u001B[38;5;28;43mself\u001B[39;49m\u001B[38;5;241;43m.\u001B[39;49m\u001B[43mendheaders\u001B[49m\u001B[43m(\u001B[49m\u001B[43mbody\u001B[49m\u001B[43m,\u001B[49m\u001B[43m \u001B[49m\u001B[43mencode_chunked\u001B[49m\u001B[38;5;241;43m=\u001B[39;49m\u001B[43mencode_chunked\u001B[49m\u001B[43m)\u001B[49m\n",
      "File \u001B[0;32m/Library/Frameworks/Python.framework/Versions/3.10/lib/python3.10/http/client.py:1277\u001B[0m, in \u001B[0;36mHTTPConnection.endheaders\u001B[0;34m(self, message_body, encode_chunked)\u001B[0m\n\u001B[1;32m   1276\u001B[0m     \u001B[38;5;28;01mraise\u001B[39;00m CannotSendHeader()\n\u001B[0;32m-> 1277\u001B[0m \u001B[38;5;28;43mself\u001B[39;49m\u001B[38;5;241;43m.\u001B[39;49m\u001B[43m_send_output\u001B[49m\u001B[43m(\u001B[49m\u001B[43mmessage_body\u001B[49m\u001B[43m,\u001B[49m\u001B[43m \u001B[49m\u001B[43mencode_chunked\u001B[49m\u001B[38;5;241;43m=\u001B[39;49m\u001B[43mencode_chunked\u001B[49m\u001B[43m)\u001B[49m\n",
      "File \u001B[0;32m/Library/Frameworks/Python.framework/Versions/3.10/lib/python3.10/http/client.py:1037\u001B[0m, in \u001B[0;36mHTTPConnection._send_output\u001B[0;34m(self, message_body, encode_chunked)\u001B[0m\n\u001B[1;32m   1036\u001B[0m \u001B[38;5;28;01mdel\u001B[39;00m \u001B[38;5;28mself\u001B[39m\u001B[38;5;241m.\u001B[39m_buffer[:]\n\u001B[0;32m-> 1037\u001B[0m \u001B[38;5;28;43mself\u001B[39;49m\u001B[38;5;241;43m.\u001B[39;49m\u001B[43msend\u001B[49m\u001B[43m(\u001B[49m\u001B[43mmsg\u001B[49m\u001B[43m)\u001B[49m\n\u001B[1;32m   1039\u001B[0m \u001B[38;5;28;01mif\u001B[39;00m message_body \u001B[38;5;129;01mis\u001B[39;00m \u001B[38;5;129;01mnot\u001B[39;00m \u001B[38;5;28;01mNone\u001B[39;00m:\n\u001B[1;32m   1040\u001B[0m \n\u001B[1;32m   1041\u001B[0m     \u001B[38;5;66;03m# create a consistent interface to message_body\u001B[39;00m\n",
      "File \u001B[0;32m/Library/Frameworks/Python.framework/Versions/3.10/lib/python3.10/http/client.py:975\u001B[0m, in \u001B[0;36mHTTPConnection.send\u001B[0;34m(self, data)\u001B[0m\n\u001B[1;32m    974\u001B[0m \u001B[38;5;28;01mif\u001B[39;00m \u001B[38;5;28mself\u001B[39m\u001B[38;5;241m.\u001B[39mauto_open:\n\u001B[0;32m--> 975\u001B[0m     \u001B[38;5;28;43mself\u001B[39;49m\u001B[38;5;241;43m.\u001B[39;49m\u001B[43mconnect\u001B[49m\u001B[43m(\u001B[49m\u001B[43m)\u001B[49m\n\u001B[1;32m    976\u001B[0m \u001B[38;5;28;01melse\u001B[39;00m:\n",
      "File \u001B[0;32m/Library/Frameworks/Python.framework/Versions/3.10/lib/python3.10/http/client.py:1454\u001B[0m, in \u001B[0;36mHTTPSConnection.connect\u001B[0;34m(self)\u001B[0m\n\u001B[1;32m   1452\u001B[0m     server_hostname \u001B[38;5;241m=\u001B[39m \u001B[38;5;28mself\u001B[39m\u001B[38;5;241m.\u001B[39mhost\n\u001B[0;32m-> 1454\u001B[0m \u001B[38;5;28mself\u001B[39m\u001B[38;5;241m.\u001B[39msock \u001B[38;5;241m=\u001B[39m \u001B[38;5;28;43mself\u001B[39;49m\u001B[38;5;241;43m.\u001B[39;49m\u001B[43m_context\u001B[49m\u001B[38;5;241;43m.\u001B[39;49m\u001B[43mwrap_socket\u001B[49m\u001B[43m(\u001B[49m\u001B[38;5;28;43mself\u001B[39;49m\u001B[38;5;241;43m.\u001B[39;49m\u001B[43msock\u001B[49m\u001B[43m,\u001B[49m\n\u001B[1;32m   1455\u001B[0m \u001B[43m                                      \u001B[49m\u001B[43mserver_hostname\u001B[49m\u001B[38;5;241;43m=\u001B[39;49m\u001B[43mserver_hostname\u001B[49m\u001B[43m)\u001B[49m\n",
      "File \u001B[0;32m/Library/Frameworks/Python.framework/Versions/3.10/lib/python3.10/ssl.py:513\u001B[0m, in \u001B[0;36mSSLContext.wrap_socket\u001B[0;34m(self, sock, server_side, do_handshake_on_connect, suppress_ragged_eofs, server_hostname, session)\u001B[0m\n\u001B[1;32m    507\u001B[0m \u001B[38;5;28;01mdef\u001B[39;00m \u001B[38;5;21mwrap_socket\u001B[39m(\u001B[38;5;28mself\u001B[39m, sock, server_side\u001B[38;5;241m=\u001B[39m\u001B[38;5;28;01mFalse\u001B[39;00m,\n\u001B[1;32m    508\u001B[0m                 do_handshake_on_connect\u001B[38;5;241m=\u001B[39m\u001B[38;5;28;01mTrue\u001B[39;00m,\n\u001B[1;32m    509\u001B[0m                 suppress_ragged_eofs\u001B[38;5;241m=\u001B[39m\u001B[38;5;28;01mTrue\u001B[39;00m,\n\u001B[1;32m    510\u001B[0m                 server_hostname\u001B[38;5;241m=\u001B[39m\u001B[38;5;28;01mNone\u001B[39;00m, session\u001B[38;5;241m=\u001B[39m\u001B[38;5;28;01mNone\u001B[39;00m):\n\u001B[1;32m    511\u001B[0m     \u001B[38;5;66;03m# SSLSocket class handles server_hostname encoding before it calls\u001B[39;00m\n\u001B[1;32m    512\u001B[0m     \u001B[38;5;66;03m# ctx._wrap_socket()\u001B[39;00m\n\u001B[0;32m--> 513\u001B[0m     \u001B[38;5;28;01mreturn\u001B[39;00m \u001B[38;5;28;43mself\u001B[39;49m\u001B[38;5;241;43m.\u001B[39;49m\u001B[43msslsocket_class\u001B[49m\u001B[38;5;241;43m.\u001B[39;49m\u001B[43m_create\u001B[49m\u001B[43m(\u001B[49m\n\u001B[1;32m    514\u001B[0m \u001B[43m        \u001B[49m\u001B[43msock\u001B[49m\u001B[38;5;241;43m=\u001B[39;49m\u001B[43msock\u001B[49m\u001B[43m,\u001B[49m\n\u001B[1;32m    515\u001B[0m \u001B[43m        \u001B[49m\u001B[43mserver_side\u001B[49m\u001B[38;5;241;43m=\u001B[39;49m\u001B[43mserver_side\u001B[49m\u001B[43m,\u001B[49m\n\u001B[1;32m    516\u001B[0m \u001B[43m        \u001B[49m\u001B[43mdo_handshake_on_connect\u001B[49m\u001B[38;5;241;43m=\u001B[39;49m\u001B[43mdo_handshake_on_connect\u001B[49m\u001B[43m,\u001B[49m\n\u001B[1;32m    517\u001B[0m \u001B[43m        \u001B[49m\u001B[43msuppress_ragged_eofs\u001B[49m\u001B[38;5;241;43m=\u001B[39;49m\u001B[43msuppress_ragged_eofs\u001B[49m\u001B[43m,\u001B[49m\n\u001B[1;32m    518\u001B[0m \u001B[43m        \u001B[49m\u001B[43mserver_hostname\u001B[49m\u001B[38;5;241;43m=\u001B[39;49m\u001B[43mserver_hostname\u001B[49m\u001B[43m,\u001B[49m\n\u001B[1;32m    519\u001B[0m \u001B[43m        \u001B[49m\u001B[43mcontext\u001B[49m\u001B[38;5;241;43m=\u001B[39;49m\u001B[38;5;28;43mself\u001B[39;49m\u001B[43m,\u001B[49m\n\u001B[1;32m    520\u001B[0m \u001B[43m        \u001B[49m\u001B[43msession\u001B[49m\u001B[38;5;241;43m=\u001B[39;49m\u001B[43msession\u001B[49m\n\u001B[1;32m    521\u001B[0m \u001B[43m    \u001B[49m\u001B[43m)\u001B[49m\n",
      "File \u001B[0;32m/Library/Frameworks/Python.framework/Versions/3.10/lib/python3.10/ssl.py:1071\u001B[0m, in \u001B[0;36mSSLSocket._create\u001B[0;34m(cls, sock, server_side, do_handshake_on_connect, suppress_ragged_eofs, server_hostname, context, session)\u001B[0m\n\u001B[1;32m   1070\u001B[0m             \u001B[38;5;28;01mraise\u001B[39;00m \u001B[38;5;167;01mValueError\u001B[39;00m(\u001B[38;5;124m\"\u001B[39m\u001B[38;5;124mdo_handshake_on_connect should not be specified for non-blocking sockets\u001B[39m\u001B[38;5;124m\"\u001B[39m)\n\u001B[0;32m-> 1071\u001B[0m         \u001B[38;5;28;43mself\u001B[39;49m\u001B[38;5;241;43m.\u001B[39;49m\u001B[43mdo_handshake\u001B[49m\u001B[43m(\u001B[49m\u001B[43m)\u001B[49m\n\u001B[1;32m   1072\u001B[0m \u001B[38;5;28;01mexcept\u001B[39;00m (\u001B[38;5;167;01mOSError\u001B[39;00m, \u001B[38;5;167;01mValueError\u001B[39;00m):\n",
      "File \u001B[0;32m/Library/Frameworks/Python.framework/Versions/3.10/lib/python3.10/ssl.py:1342\u001B[0m, in \u001B[0;36mSSLSocket.do_handshake\u001B[0;34m(self, block)\u001B[0m\n\u001B[1;32m   1341\u001B[0m         \u001B[38;5;28mself\u001B[39m\u001B[38;5;241m.\u001B[39msettimeout(\u001B[38;5;28;01mNone\u001B[39;00m)\n\u001B[0;32m-> 1342\u001B[0m     \u001B[38;5;28;43mself\u001B[39;49m\u001B[38;5;241;43m.\u001B[39;49m\u001B[43m_sslobj\u001B[49m\u001B[38;5;241;43m.\u001B[39;49m\u001B[43mdo_handshake\u001B[49m\u001B[43m(\u001B[49m\u001B[43m)\u001B[49m\n\u001B[1;32m   1343\u001B[0m \u001B[38;5;28;01mfinally\u001B[39;00m:\n",
      "\u001B[0;31mSSLCertVerificationError\u001B[0m: [SSL: CERTIFICATE_VERIFY_FAILED] certificate verify failed: unable to get local issuer certificate (_ssl.c:997)",
      "\nDuring handling of the above exception, another exception occurred:\n",
      "\u001B[0;31mURLError\u001B[0m                                  Traceback (most recent call last)",
      "Cell \u001B[0;32mIn[4], line 3\u001B[0m\n\u001B[1;32m      1\u001B[0m \u001B[38;5;28;01mimport\u001B[39;00m \u001B[38;5;21;01mee\u001B[39;00m\n\u001B[0;32m----> 3\u001B[0m \u001B[43mee\u001B[49m\u001B[38;5;241;43m.\u001B[39;49m\u001B[43mAuthenticate\u001B[49m\u001B[43m(\u001B[49m\u001B[43m)\u001B[49m\n\u001B[1;32m      4\u001B[0m ee\u001B[38;5;241m.\u001B[39mInitialize()\n",
      "File \u001B[0;32m~/PycharmProjects/ProjectNebulus/venv/lib/python3.10/site-packages/ee/__init__.py:103\u001B[0m, in \u001B[0;36mAuthenticate\u001B[0;34m(authorization_code, quiet, code_verifier, auth_mode, scopes)\u001B[0m\n\u001B[1;32m     77\u001B[0m \u001B[38;5;28;01mdef\u001B[39;00m \u001B[38;5;21mAuthenticate\u001B[39m(\n\u001B[1;32m     78\u001B[0m     authorization_code\u001B[38;5;241m=\u001B[39m\u001B[38;5;28;01mNone\u001B[39;00m,\n\u001B[1;32m     79\u001B[0m     quiet\u001B[38;5;241m=\u001B[39m\u001B[38;5;28;01mNone\u001B[39;00m,\n\u001B[1;32m     80\u001B[0m     code_verifier\u001B[38;5;241m=\u001B[39m\u001B[38;5;28;01mNone\u001B[39;00m,\n\u001B[1;32m     81\u001B[0m     auth_mode\u001B[38;5;241m=\u001B[39m\u001B[38;5;28;01mNone\u001B[39;00m,\n\u001B[1;32m     82\u001B[0m     scopes\u001B[38;5;241m=\u001B[39m\u001B[38;5;28;01mNone\u001B[39;00m):\n\u001B[1;32m     83\u001B[0m   \u001B[38;5;124;03m\"\"\"Prompts the user to authorize access to Earth Engine via OAuth2.\u001B[39;00m\n\u001B[1;32m     84\u001B[0m \n\u001B[1;32m     85\u001B[0m \u001B[38;5;124;03m  Args:\u001B[39;00m\n\u001B[0;32m   (...)\u001B[0m\n\u001B[1;32m    101\u001B[0m \u001B[38;5;124;03m     (auth_url, code_verifier) when called with quiet='init_only'\u001B[39;00m\n\u001B[1;32m    102\u001B[0m \u001B[38;5;124;03m  \"\"\"\u001B[39;00m\n\u001B[0;32m--> 103\u001B[0m   \u001B[38;5;28;01mreturn\u001B[39;00m \u001B[43moauth\u001B[49m\u001B[38;5;241;43m.\u001B[39;49m\u001B[43mauthenticate\u001B[49m\u001B[43m(\u001B[49m\u001B[43mauthorization_code\u001B[49m\u001B[43m,\u001B[49m\u001B[43m \u001B[49m\u001B[43mquiet\u001B[49m\u001B[43m,\u001B[49m\u001B[43m \u001B[49m\u001B[43mcode_verifier\u001B[49m\u001B[43m,\u001B[49m\u001B[43m \u001B[49m\u001B[43mauth_mode\u001B[49m\u001B[43m,\u001B[49m\n\u001B[1;32m    104\u001B[0m \u001B[43m                            \u001B[49m\u001B[43mscopes\u001B[49m\u001B[43m)\u001B[49m\n",
      "File \u001B[0;32m~/PycharmProjects/ProjectNebulus/venv/lib/python3.10/site-packages/ee/oauth.py:406\u001B[0m, in \u001B[0;36mauthenticate\u001B[0;34m(cli_authorization_code, quiet, cli_code_verifier, auth_mode, scopes)\u001B[0m\n\u001B[1;32m    403\u001B[0m \u001B[38;5;28;01mif\u001B[39;00m flow\u001B[38;5;241m.\u001B[39mdisplay_instructions(quiet):\n\u001B[1;32m    404\u001B[0m   _open_new_browser(flow\u001B[38;5;241m.\u001B[39mauth_url)\n\u001B[0;32m--> 406\u001B[0m \u001B[43mflow\u001B[49m\u001B[38;5;241;43m.\u001B[39;49m\u001B[43msave_code\u001B[49m\u001B[43m(\u001B[49m\u001B[43m)\u001B[49m\n",
      "File \u001B[0;32m~/PycharmProjects/ProjectNebulus/venv/lib/python3.10/site-packages/ee/oauth.py:449\u001B[0m, in \u001B[0;36mFlow.save_code\u001B[0;34m(self, code)\u001B[0m\n\u001B[1;32m    447\u001B[0m   redirect_uri \u001B[38;5;241m=\u001B[39m \u001B[38;5;28mself\u001B[39m\u001B[38;5;241m.\u001B[39mserver\u001B[38;5;241m.\u001B[39murl\n\u001B[1;32m    448\u001B[0m   code \u001B[38;5;241m=\u001B[39m \u001B[38;5;28mself\u001B[39m\u001B[38;5;241m.\u001B[39mserver\u001B[38;5;241m.\u001B[39mfetch_code()  \u001B[38;5;66;03m# Waits for oauth callback\u001B[39;00m\n\u001B[0;32m--> 449\u001B[0m \u001B[43m_obtain_and_write_token\u001B[49m\u001B[43m(\u001B[49m\u001B[43mcode\u001B[49m\u001B[43m,\u001B[49m\u001B[43m \u001B[49m\u001B[38;5;28;43mself\u001B[39;49m\u001B[38;5;241;43m.\u001B[39;49m\u001B[43mcode_verifier\u001B[49m\u001B[43m,\u001B[49m\u001B[43m \u001B[49m\u001B[38;5;28;43mself\u001B[39;49m\u001B[38;5;241;43m.\u001B[39;49m\u001B[43mscopes\u001B[49m\u001B[43m,\u001B[49m\u001B[43m \u001B[49m\u001B[43mredirect_uri\u001B[49m\u001B[43m)\u001B[49m\n",
      "File \u001B[0;32m~/PycharmProjects/ProjectNebulus/venv/lib/python3.10/site-packages/ee/oauth.py:186\u001B[0m, in \u001B[0;36m_obtain_and_write_token\u001B[0;34m(auth_code, code_verifier, scopes, redirect_uri)\u001B[0m\n\u001B[1;32m    183\u001B[0m headers \u001B[38;5;241m=\u001B[39m {\u001B[38;5;124m'\u001B[39m\u001B[38;5;124mContent-Type\u001B[39m\u001B[38;5;124m'\u001B[39m: \u001B[38;5;124m'\u001B[39m\u001B[38;5;124mapplication/json; charset=UTF-8\u001B[39m\u001B[38;5;124m'\u001B[39m}\n\u001B[1;32m    184\u001B[0m fetch_client \u001B[38;5;241m=\u001B[39m urllib\u001B[38;5;241m.\u001B[39mrequest\u001B[38;5;241m.\u001B[39mRequest(FETCH_URL, data\u001B[38;5;241m=\u001B[39mdata, headers\u001B[38;5;241m=\u001B[39mheaders)\n\u001B[1;32m    185\u001B[0m fetched_info \u001B[38;5;241m=\u001B[39m json\u001B[38;5;241m.\u001B[39mloads(\n\u001B[0;32m--> 186\u001B[0m     \u001B[43murllib\u001B[49m\u001B[38;5;241;43m.\u001B[39;49m\u001B[43mrequest\u001B[49m\u001B[38;5;241;43m.\u001B[39;49m\u001B[43murlopen\u001B[49m\u001B[43m(\u001B[49m\u001B[43mfetch_client\u001B[49m\u001B[43m)\u001B[49m\u001B[38;5;241m.\u001B[39mread()\u001B[38;5;241m.\u001B[39mdecode())\n\u001B[1;32m    187\u001B[0m client_info \u001B[38;5;241m=\u001B[39m {k: fetched_info[k] \u001B[38;5;28;01mfor\u001B[39;00m k \u001B[38;5;129;01min\u001B[39;00m [\u001B[38;5;124m'\u001B[39m\u001B[38;5;124mclient_id\u001B[39m\u001B[38;5;124m'\u001B[39m, \u001B[38;5;124m'\u001B[39m\u001B[38;5;124mclient_secret\u001B[39m\u001B[38;5;124m'\u001B[39m]}\n\u001B[1;32m    188\u001B[0m scopes \u001B[38;5;241m=\u001B[39m fetched_info\u001B[38;5;241m.\u001B[39mget(\u001B[38;5;124m'\u001B[39m\u001B[38;5;124mscopes\u001B[39m\u001B[38;5;124m'\u001B[39m) \u001B[38;5;129;01mor\u001B[39;00m scopes\n",
      "File \u001B[0;32m/Library/Frameworks/Python.framework/Versions/3.10/lib/python3.10/urllib/request.py:216\u001B[0m, in \u001B[0;36murlopen\u001B[0;34m(url, data, timeout, cafile, capath, cadefault, context)\u001B[0m\n\u001B[1;32m    214\u001B[0m \u001B[38;5;28;01melse\u001B[39;00m:\n\u001B[1;32m    215\u001B[0m     opener \u001B[38;5;241m=\u001B[39m _opener\n\u001B[0;32m--> 216\u001B[0m \u001B[38;5;28;01mreturn\u001B[39;00m \u001B[43mopener\u001B[49m\u001B[38;5;241;43m.\u001B[39;49m\u001B[43mopen\u001B[49m\u001B[43m(\u001B[49m\u001B[43murl\u001B[49m\u001B[43m,\u001B[49m\u001B[43m \u001B[49m\u001B[43mdata\u001B[49m\u001B[43m,\u001B[49m\u001B[43m \u001B[49m\u001B[43mtimeout\u001B[49m\u001B[43m)\u001B[49m\n",
      "File \u001B[0;32m/Library/Frameworks/Python.framework/Versions/3.10/lib/python3.10/urllib/request.py:519\u001B[0m, in \u001B[0;36mOpenerDirector.open\u001B[0;34m(self, fullurl, data, timeout)\u001B[0m\n\u001B[1;32m    516\u001B[0m     req \u001B[38;5;241m=\u001B[39m meth(req)\n\u001B[1;32m    518\u001B[0m sys\u001B[38;5;241m.\u001B[39maudit(\u001B[38;5;124m'\u001B[39m\u001B[38;5;124murllib.Request\u001B[39m\u001B[38;5;124m'\u001B[39m, req\u001B[38;5;241m.\u001B[39mfull_url, req\u001B[38;5;241m.\u001B[39mdata, req\u001B[38;5;241m.\u001B[39mheaders, req\u001B[38;5;241m.\u001B[39mget_method())\n\u001B[0;32m--> 519\u001B[0m response \u001B[38;5;241m=\u001B[39m \u001B[38;5;28;43mself\u001B[39;49m\u001B[38;5;241;43m.\u001B[39;49m\u001B[43m_open\u001B[49m\u001B[43m(\u001B[49m\u001B[43mreq\u001B[49m\u001B[43m,\u001B[49m\u001B[43m \u001B[49m\u001B[43mdata\u001B[49m\u001B[43m)\u001B[49m\n\u001B[1;32m    521\u001B[0m \u001B[38;5;66;03m# post-process response\u001B[39;00m\n\u001B[1;32m    522\u001B[0m meth_name \u001B[38;5;241m=\u001B[39m protocol\u001B[38;5;241m+\u001B[39m\u001B[38;5;124m\"\u001B[39m\u001B[38;5;124m_response\u001B[39m\u001B[38;5;124m\"\u001B[39m\n",
      "File \u001B[0;32m/Library/Frameworks/Python.framework/Versions/3.10/lib/python3.10/urllib/request.py:536\u001B[0m, in \u001B[0;36mOpenerDirector._open\u001B[0;34m(self, req, data)\u001B[0m\n\u001B[1;32m    533\u001B[0m     \u001B[38;5;28;01mreturn\u001B[39;00m result\n\u001B[1;32m    535\u001B[0m protocol \u001B[38;5;241m=\u001B[39m req\u001B[38;5;241m.\u001B[39mtype\n\u001B[0;32m--> 536\u001B[0m result \u001B[38;5;241m=\u001B[39m \u001B[38;5;28;43mself\u001B[39;49m\u001B[38;5;241;43m.\u001B[39;49m\u001B[43m_call_chain\u001B[49m\u001B[43m(\u001B[49m\u001B[38;5;28;43mself\u001B[39;49m\u001B[38;5;241;43m.\u001B[39;49m\u001B[43mhandle_open\u001B[49m\u001B[43m,\u001B[49m\u001B[43m \u001B[49m\u001B[43mprotocol\u001B[49m\u001B[43m,\u001B[49m\u001B[43m \u001B[49m\u001B[43mprotocol\u001B[49m\u001B[43m \u001B[49m\u001B[38;5;241;43m+\u001B[39;49m\n\u001B[1;32m    537\u001B[0m \u001B[43m                          \u001B[49m\u001B[38;5;124;43m'\u001B[39;49m\u001B[38;5;124;43m_open\u001B[39;49m\u001B[38;5;124;43m'\u001B[39;49m\u001B[43m,\u001B[49m\u001B[43m \u001B[49m\u001B[43mreq\u001B[49m\u001B[43m)\u001B[49m\n\u001B[1;32m    538\u001B[0m \u001B[38;5;28;01mif\u001B[39;00m result:\n\u001B[1;32m    539\u001B[0m     \u001B[38;5;28;01mreturn\u001B[39;00m result\n",
      "File \u001B[0;32m/Library/Frameworks/Python.framework/Versions/3.10/lib/python3.10/urllib/request.py:496\u001B[0m, in \u001B[0;36mOpenerDirector._call_chain\u001B[0;34m(self, chain, kind, meth_name, *args)\u001B[0m\n\u001B[1;32m    494\u001B[0m \u001B[38;5;28;01mfor\u001B[39;00m handler \u001B[38;5;129;01min\u001B[39;00m handlers:\n\u001B[1;32m    495\u001B[0m     func \u001B[38;5;241m=\u001B[39m \u001B[38;5;28mgetattr\u001B[39m(handler, meth_name)\n\u001B[0;32m--> 496\u001B[0m     result \u001B[38;5;241m=\u001B[39m \u001B[43mfunc\u001B[49m\u001B[43m(\u001B[49m\u001B[38;5;241;43m*\u001B[39;49m\u001B[43margs\u001B[49m\u001B[43m)\u001B[49m\n\u001B[1;32m    497\u001B[0m     \u001B[38;5;28;01mif\u001B[39;00m result \u001B[38;5;129;01mis\u001B[39;00m \u001B[38;5;129;01mnot\u001B[39;00m \u001B[38;5;28;01mNone\u001B[39;00m:\n\u001B[1;32m    498\u001B[0m         \u001B[38;5;28;01mreturn\u001B[39;00m result\n",
      "File \u001B[0;32m/Library/Frameworks/Python.framework/Versions/3.10/lib/python3.10/urllib/request.py:1391\u001B[0m, in \u001B[0;36mHTTPSHandler.https_open\u001B[0;34m(self, req)\u001B[0m\n\u001B[1;32m   1390\u001B[0m \u001B[38;5;28;01mdef\u001B[39;00m \u001B[38;5;21mhttps_open\u001B[39m(\u001B[38;5;28mself\u001B[39m, req):\n\u001B[0;32m-> 1391\u001B[0m     \u001B[38;5;28;01mreturn\u001B[39;00m \u001B[38;5;28;43mself\u001B[39;49m\u001B[38;5;241;43m.\u001B[39;49m\u001B[43mdo_open\u001B[49m\u001B[43m(\u001B[49m\u001B[43mhttp\u001B[49m\u001B[38;5;241;43m.\u001B[39;49m\u001B[43mclient\u001B[49m\u001B[38;5;241;43m.\u001B[39;49m\u001B[43mHTTPSConnection\u001B[49m\u001B[43m,\u001B[49m\u001B[43m \u001B[49m\u001B[43mreq\u001B[49m\u001B[43m,\u001B[49m\n\u001B[1;32m   1392\u001B[0m \u001B[43m        \u001B[49m\u001B[43mcontext\u001B[49m\u001B[38;5;241;43m=\u001B[39;49m\u001B[38;5;28;43mself\u001B[39;49m\u001B[38;5;241;43m.\u001B[39;49m\u001B[43m_context\u001B[49m\u001B[43m,\u001B[49m\u001B[43m \u001B[49m\u001B[43mcheck_hostname\u001B[49m\u001B[38;5;241;43m=\u001B[39;49m\u001B[38;5;28;43mself\u001B[39;49m\u001B[38;5;241;43m.\u001B[39;49m\u001B[43m_check_hostname\u001B[49m\u001B[43m)\u001B[49m\n",
      "File \u001B[0;32m/Library/Frameworks/Python.framework/Versions/3.10/lib/python3.10/urllib/request.py:1351\u001B[0m, in \u001B[0;36mAbstractHTTPHandler.do_open\u001B[0;34m(self, http_class, req, **http_conn_args)\u001B[0m\n\u001B[1;32m   1348\u001B[0m         h\u001B[38;5;241m.\u001B[39mrequest(req\u001B[38;5;241m.\u001B[39mget_method(), req\u001B[38;5;241m.\u001B[39mselector, req\u001B[38;5;241m.\u001B[39mdata, headers,\n\u001B[1;32m   1349\u001B[0m                   encode_chunked\u001B[38;5;241m=\u001B[39mreq\u001B[38;5;241m.\u001B[39mhas_header(\u001B[38;5;124m'\u001B[39m\u001B[38;5;124mTransfer-encoding\u001B[39m\u001B[38;5;124m'\u001B[39m))\n\u001B[1;32m   1350\u001B[0m     \u001B[38;5;28;01mexcept\u001B[39;00m \u001B[38;5;167;01mOSError\u001B[39;00m \u001B[38;5;28;01mas\u001B[39;00m err: \u001B[38;5;66;03m# timeout error\u001B[39;00m\n\u001B[0;32m-> 1351\u001B[0m         \u001B[38;5;28;01mraise\u001B[39;00m URLError(err)\n\u001B[1;32m   1352\u001B[0m     r \u001B[38;5;241m=\u001B[39m h\u001B[38;5;241m.\u001B[39mgetresponse()\n\u001B[1;32m   1353\u001B[0m \u001B[38;5;28;01mexcept\u001B[39;00m:\n",
      "\u001B[0;31mURLError\u001B[0m: <urlopen error [SSL: CERTIFICATE_VERIFY_FAILED] certificate verify failed: unable to get local issuer certificate (_ssl.c:997)>"
     ]
    }
   ],
   "source": [
    "import ee\n",
    "\n",
    "ee.Authenticate()\n",
    "ee.Initialize()"
   ]
  },
  {
   "cell_type": "code",
   "source": [
    "!pip install cartopy"
   ],
   "metadata": {
    "id": "PY3PL52FJF66",
    "colab": {
     "base_uri": "https://localhost:8080/"
    },
    "outputId": "54318810-b183-454e-c5e7-fa3fbc180984",
    "pycharm": {
     "name": "#%%\n"
    }
   },
   "execution_count": null,
   "outputs": [
    {
     "output_type": "stream",
     "name": "stdout",
     "text": [
      "Looking in indexes: https://pypi.org/simple, https://us-python.pkg.dev/colab-wheels/public/simple/\n",
      "Collecting cartopy\n",
      "  Downloading Cartopy-0.21.1.tar.gz (10.9 MB)\n",
      "\u001B[2K     \u001B[90m━━━━━━━━━━━━━━━━━━━━━━━━━━━━━━━━━━━━━━━━\u001B[0m \u001B[32m10.9/10.9 MB\u001B[0m \u001B[31m40.8 MB/s\u001B[0m eta \u001B[36m0:00:00\u001B[0m\n",
      "\u001B[?25h  Installing build dependencies ... \u001B[?25l\u001B[?25hdone\n",
      "  \u001B[1;31merror\u001B[0m: \u001B[1msubprocess-exited-with-error\u001B[0m\n",
      "  \n",
      "  \u001B[31m×\u001B[0m \u001B[32mGetting requirements to build wheel\u001B[0m did not run successfully.\n",
      "  \u001B[31m│\u001B[0m exit code: \u001B[1;36m1\u001B[0m\n",
      "  \u001B[31m╰─>\u001B[0m See above for output.\n",
      "  \n",
      "  \u001B[1;35mnote\u001B[0m: This error originates from a subprocess, and is likely not a problem with pip.\n",
      "  Getting requirements to build wheel ... \u001B[?25l\u001B[?25herror\n",
      "\u001B[1;31merror\u001B[0m: \u001B[1msubprocess-exited-with-error\u001B[0m\n",
      "\n",
      "\u001B[31m×\u001B[0m \u001B[32mGetting requirements to build wheel\u001B[0m did not run successfully.\n",
      "\u001B[31m│\u001B[0m exit code: \u001B[1;36m1\u001B[0m\n",
      "\u001B[31m╰─>\u001B[0m See above for output.\n",
      "\n",
      "\u001B[1;35mnote\u001B[0m: This error originates from a subprocess, and is likely not a problem with pip.\n"
     ]
    }
   ]
  },
  {
   "cell_type": "code",
   "source": [
    "import pandas as pd\n",
    "from math import *\n",
    "\n",
    "resolution_km = 1\n",
    "requests = 1\n",
    "\n",
    "km_lon_deg = 110.574  # Kilometers for 1 degree of longitude\n",
    "km_lat_deg = 111.321  # Kilometers for 1 degree of latitude\n",
    "dateRange = [\"2021-08-05\", \"2021-08-06\"]\n",
    "fireName = \"Dixie\"\n",
    "\n",
    "export_fire = False\n",
    "export_wind = False\n",
    "\n",
    "\"\"\"\n",
    "Old Coordinates\n",
    "\n",
    "\"coordinates\": [\n",
    "    -121.5, 40.5,\n",
    "    -118.5, 40.5,\n",
    "    -118.5, 38.5,\n",
    "    -121.5, 38.5,\n",
    "]\n",
    "\"\"\"\n",
    "\n",
    "data = {\n",
    "    \"Dixie\": {\n",
    "        \"coordinates\": [\n",
    "            -121.5, 40.5,\n",
    "            -120.5, 40.5,\n",
    "            -120.5, 39.5,\n",
    "            -121.5, 39.5\n",
    "        ]\n",
    "    }\n",
    "}\n",
    "\n",
    "\n",
    "def getDataset():\n",
    "    fire = data[fireName]\n",
    "\n",
    "    # Get region from coordinates\n",
    "    region = ee.Geometry.Polygon(fire[\"coordinates\"])\n",
    "\n",
    "    # Import dataset\n",
    "    collection = ee.ImageCollection(dataset)\n",
    "\n",
    "    # Selects the band (MaxFRP) and filters it by date\n",
    "    collection = collection.select(band).filterDate(*dateRange[:2])\n",
    "\n",
    "    if len(dateRange) > 2:\n",
    "        collection = collection.filter(ee.Filter.calendarRange(dateRange[2], dateRange[3], \"HOUR\"))\n",
    "\n",
    "    collection = collection.getRegion(region, resolution_km * 1000).getInfo()\n",
    "\n",
    "    # Estimated area of the polygon\n",
    "    lon = fire[\"coordinates\"][::2]\n",
    "    lat = fire[\"coordinates\"][1::2]\n",
    "    lon_km = abs(max(lon) - min(lon)) * km_lon_deg\n",
    "    lat_km = abs(max(lat) - min(lat)) * km_lat_deg * (cos(lon[0] * (pi / 180)) * (180 / pi))\n",
    "    print(lon_km * lat_km)\n",
    "\n",
    "    return eeToDf(collection)\n",
    "\n",
    "\n",
    "def eeToDf(arr):\n",
    "    \"\"\"Converts an ee.List to a Pandas.DataFrame.\"\"\"\n",
    "\n",
    "    print(\"Raw data\")\n",
    "    print(*arr[:5], sep=\"\\n\")\n",
    "    df = pd.DataFrame(arr)\n",
    "\n",
    "    if type(band) is str:\n",
    "        bands = [band]\n",
    "    else:\n",
    "        bands = band\n",
    "\n",
    "    headers = df.iloc[0]\n",
    "\n",
    "    df = pd.DataFrame(df.values[1:], columns=headers)\n",
    "\n",
    "    for b in bands:\n",
    "        df[b] = pd.to_numeric(df[b])\n",
    "\n",
    "    df['datetime'] = pd.to_datetime(df['time'], unit='ms')\n",
    "\n",
    "    df = df[['datetime', *bands, 'longitude', 'latitude']]\n",
    "\n",
    "    print(len(df))\n",
    "\n",
    "    return df"
   ],
   "metadata": {
    "id": "aMgieI606Gbx",
    "pycharm": {
     "name": "#%%\n"
    }
   },
   "execution_count": 2,
   "outputs": []
  },
  {
   "cell_type": "markdown",
   "source": [
    "Data Collection + Graphs\n",
    "---\n",
    "\n",
    "Fire data"
   ],
   "metadata": {
    "id": "uw0Qa9Cx6bET",
    "pycharm": {
     "name": "#%% md\n"
    }
   }
  },
  {
   "cell_type": "code",
   "source": [
    "dataset = \"NOAA/GOES/17/FDCF\"\n",
    "band = \"Power\"\n",
    "resolution_km = 2\n",
    "\n",
    "fire_df = getDataset()\n",
    "fire_df.dropna(inplace=True)\n",
    "print(\"\\nDataFrame preview\", f\"(size {len(fire_df)}):\")\n",
    "print(fire_df[:5])\n",
    "\n",
    "export_fire = export_fire or True\n",
    "if export_fire:\n",
    "    # from google.colab import files\n",
    "\n",
    "    fire_df.to_csv(\"fire_df.csv\", index=False)\n",
    "\n",
    "    # files.download(\"fire_df.csv\")"
   ],
   "metadata": {
    "colab": {
     "base_uri": "https://localhost:8080/",
     "height": 289
    },
    "id": "TXpGs0Wt6TCw",
    "outputId": "ae9a2165-c3b0-445b-c7b7-eaccab7857aa",
    "pycharm": {
     "name": "#%%\n"
    }
   },
   "execution_count": 3,
   "outputs": [
    {
     "ename": "EEException",
     "evalue": "Earth Engine client library not initialized. Run `ee.Initialize()`",
     "output_type": "error",
     "traceback": [
      "\u001B[0;31m---------------------------------------------------------------------------\u001B[0m",
      "\u001B[0;31mEEException\u001B[0m                               Traceback (most recent call last)",
      "Cell \u001B[0;32mIn[3], line 5\u001B[0m\n\u001B[1;32m      2\u001B[0m band \u001B[38;5;241m=\u001B[39m \u001B[38;5;124m\"\u001B[39m\u001B[38;5;124mPower\u001B[39m\u001B[38;5;124m\"\u001B[39m\n\u001B[1;32m      3\u001B[0m resolution_km \u001B[38;5;241m=\u001B[39m \u001B[38;5;241m2\u001B[39m\n\u001B[0;32m----> 5\u001B[0m fire_df \u001B[38;5;241m=\u001B[39m \u001B[43mgetDataset\u001B[49m\u001B[43m(\u001B[49m\u001B[43m)\u001B[49m\n\u001B[1;32m      6\u001B[0m fire_df\u001B[38;5;241m.\u001B[39mdropna(inplace\u001B[38;5;241m=\u001B[39m\u001B[38;5;28;01mTrue\u001B[39;00m)\n\u001B[1;32m      7\u001B[0m \u001B[38;5;28mprint\u001B[39m(\u001B[38;5;124m\"\u001B[39m\u001B[38;5;130;01m\\n\u001B[39;00m\u001B[38;5;124mDataFrame preview\u001B[39m\u001B[38;5;124m\"\u001B[39m, \u001B[38;5;124mf\u001B[39m\u001B[38;5;124m\"\u001B[39m\u001B[38;5;124m(size \u001B[39m\u001B[38;5;132;01m{\u001B[39;00m\u001B[38;5;28mlen\u001B[39m(fire_df)\u001B[38;5;132;01m}\u001B[39;00m\u001B[38;5;124m):\u001B[39m\u001B[38;5;124m\"\u001B[39m)\n",
      "Cell \u001B[0;32mIn[2], line 42\u001B[0m, in \u001B[0;36mgetDataset\u001B[0;34m()\u001B[0m\n\u001B[1;32m     39\u001B[0m fire \u001B[38;5;241m=\u001B[39m data[fireName]\n\u001B[1;32m     41\u001B[0m \u001B[38;5;66;03m# Get region from coordinates\u001B[39;00m\n\u001B[0;32m---> 42\u001B[0m region \u001B[38;5;241m=\u001B[39m \u001B[43mee\u001B[49m\u001B[38;5;241;43m.\u001B[39;49m\u001B[43mGeometry\u001B[49m\u001B[38;5;241;43m.\u001B[39;49m\u001B[43mPolygon\u001B[49m\u001B[43m(\u001B[49m\u001B[43mfire\u001B[49m\u001B[43m[\u001B[49m\u001B[38;5;124;43m\"\u001B[39;49m\u001B[38;5;124;43mcoordinates\u001B[39;49m\u001B[38;5;124;43m\"\u001B[39;49m\u001B[43m]\u001B[49m\u001B[43m)\u001B[49m\n\u001B[1;32m     44\u001B[0m \u001B[38;5;66;03m# Import dataset\u001B[39;00m\n\u001B[1;32m     45\u001B[0m collection \u001B[38;5;241m=\u001B[39m ee\u001B[38;5;241m.\u001B[39mImageCollection(dataset)\n",
      "File \u001B[0;32m~/PycharmProjects/ProjectNebulus/venv/lib/python3.10/site-packages/ee/geometry.py:517\u001B[0m, in \u001B[0;36mGeometry.Polygon\u001B[0;34m(coords, proj, geodesic, maxError, evenOdd, *args)\u001B[0m\n\u001B[1;32m    485\u001B[0m \u001B[38;5;124;03m\"\"\"Constructs an ee.Geometry describing a polygon.\u001B[39;00m\n\u001B[1;32m    486\u001B[0m \n\u001B[1;32m    487\u001B[0m \u001B[38;5;124;03mArgs:\u001B[39;00m\n\u001B[0;32m   (...)\u001B[0m\n\u001B[1;32m    513\u001B[0m \u001B[38;5;124;03m  An ee.Geometry describing a polygon.\u001B[39;00m\n\u001B[1;32m    514\u001B[0m \u001B[38;5;124;03m\"\"\"\u001B[39;00m\n\u001B[1;32m    515\u001B[0m all_args \u001B[38;5;241m=\u001B[39m Geometry\u001B[38;5;241m.\u001B[39m_GetSpecifiedArgs((coords, proj, geodesic, maxError,\n\u001B[1;32m    516\u001B[0m                                        evenOdd) \u001B[38;5;241m+\u001B[39m args)\n\u001B[0;32m--> 517\u001B[0m \u001B[38;5;28;01mreturn\u001B[39;00m \u001B[43mGeometry\u001B[49m\u001B[43m(\u001B[49m\u001B[43mGeometry\u001B[49m\u001B[38;5;241;43m.\u001B[39;49m\u001B[43m_parseArgs\u001B[49m\u001B[43m(\u001B[49m\u001B[38;5;124;43m'\u001B[39;49m\u001B[38;5;124;43mPolygon\u001B[39;49m\u001B[38;5;124;43m'\u001B[39;49m\u001B[43m,\u001B[49m\u001B[43m \u001B[49m\u001B[38;5;241;43m3\u001B[39;49m\u001B[43m,\u001B[49m\u001B[43m \u001B[49m\u001B[43mall_args\u001B[49m\u001B[43m)\u001B[49m\u001B[43m)\u001B[49m\n",
      "File \u001B[0;32m~/PycharmProjects/ProjectNebulus/venv/lib/python3.10/site-packages/ee/computedobject.py:31\u001B[0m, in \u001B[0;36mComputedObjectMetaclass.__call__\u001B[0;34m(cls, *args, **kwargs)\u001B[0m\n\u001B[1;32m     29\u001B[0m   \u001B[38;5;28;01mreturn\u001B[39;00m args[\u001B[38;5;241m0\u001B[39m]\n\u001B[1;32m     30\u001B[0m \u001B[38;5;28;01melse\u001B[39;00m:\n\u001B[0;32m---> 31\u001B[0m   \u001B[38;5;28;01mreturn\u001B[39;00m \u001B[38;5;28;43mtype\u001B[39;49m\u001B[38;5;241;43m.\u001B[39;49m\u001B[38;5;21;43m__call__\u001B[39;49m\u001B[43m(\u001B[49m\u001B[38;5;28;43mcls\u001B[39;49m\u001B[43m,\u001B[49m\u001B[43m \u001B[49m\u001B[38;5;241;43m*\u001B[39;49m\u001B[43margs\u001B[49m\u001B[43m,\u001B[49m\u001B[43m \u001B[49m\u001B[38;5;241;43m*\u001B[39;49m\u001B[38;5;241;43m*\u001B[39;49m\u001B[43mkwargs\u001B[49m\u001B[43m)\u001B[49m\n",
      "File \u001B[0;32m~/PycharmProjects/ProjectNebulus/venv/lib/python3.10/site-packages/ee/geometry.py:65\u001B[0m, in \u001B[0;36mGeometry.__init__\u001B[0;34m(self, geo_json, opt_proj, opt_geodesic, opt_evenOdd)\u001B[0m\n\u001B[1;32m     33\u001B[0m \u001B[38;5;28;01mdef\u001B[39;00m \u001B[38;5;21m__init__\u001B[39m(\u001B[38;5;28mself\u001B[39m,\n\u001B[1;32m     34\u001B[0m              geo_json,\n\u001B[1;32m     35\u001B[0m              opt_proj\u001B[38;5;241m=\u001B[39m\u001B[38;5;28;01mNone\u001B[39;00m,\n\u001B[1;32m     36\u001B[0m              opt_geodesic\u001B[38;5;241m=\u001B[39m\u001B[38;5;28;01mNone\u001B[39;00m,\n\u001B[1;32m     37\u001B[0m              opt_evenOdd\u001B[38;5;241m=\u001B[39m\u001B[38;5;28;01mNone\u001B[39;00m):\n\u001B[1;32m     38\u001B[0m   \u001B[38;5;124;03m\"\"\"Creates a geometry.\u001B[39;00m\n\u001B[1;32m     39\u001B[0m \n\u001B[1;32m     40\u001B[0m \u001B[38;5;124;03m  Args:\u001B[39;00m\n\u001B[0;32m   (...)\u001B[0m\n\u001B[1;32m     63\u001B[0m \u001B[38;5;124;03m    EEException: if the given geometry isn't valid.\u001B[39;00m\n\u001B[1;32m     64\u001B[0m \u001B[38;5;124;03m  \"\"\"\u001B[39;00m\n\u001B[0;32m---> 65\u001B[0m   \u001B[38;5;28;43mself\u001B[39;49m\u001B[38;5;241;43m.\u001B[39;49m\u001B[43minitialize\u001B[49m\u001B[43m(\u001B[49m\u001B[43m)\u001B[49m\n\u001B[1;32m     67\u001B[0m   computed \u001B[38;5;241m=\u001B[39m (\n\u001B[1;32m     68\u001B[0m       \u001B[38;5;28misinstance\u001B[39m(geo_json, computedobject\u001B[38;5;241m.\u001B[39mComputedObject) \u001B[38;5;129;01mand\u001B[39;00m\n\u001B[1;32m     69\u001B[0m       \u001B[38;5;129;01mnot\u001B[39;00m (\u001B[38;5;28misinstance\u001B[39m(geo_json, Geometry) \u001B[38;5;129;01mand\u001B[39;00m geo_json\u001B[38;5;241m.\u001B[39m_type \u001B[38;5;129;01mis\u001B[39;00m \u001B[38;5;129;01mnot\u001B[39;00m \u001B[38;5;28;01mNone\u001B[39;00m))  \u001B[38;5;66;03m# pylint: disable=protected-access\u001B[39;00m\n\u001B[1;32m     70\u001B[0m   options \u001B[38;5;241m=\u001B[39m opt_proj \u001B[38;5;129;01mor\u001B[39;00m opt_geodesic \u001B[38;5;129;01mor\u001B[39;00m opt_evenOdd\n",
      "File \u001B[0;32m~/PycharmProjects/ProjectNebulus/venv/lib/python3.10/site-packages/ee/geometry.py:156\u001B[0m, in \u001B[0;36mGeometry.initialize\u001B[0;34m(cls)\u001B[0m\n\u001B[1;32m    154\u001B[0m \u001B[38;5;124;03m\"\"\"Imports API functions to this class.\"\"\"\u001B[39;00m\n\u001B[1;32m    155\u001B[0m \u001B[38;5;28;01mif\u001B[39;00m \u001B[38;5;129;01mnot\u001B[39;00m \u001B[38;5;28mcls\u001B[39m\u001B[38;5;241m.\u001B[39m_initialized:\n\u001B[0;32m--> 156\u001B[0m   \u001B[43mapifunction\u001B[49m\u001B[38;5;241;43m.\u001B[39;49m\u001B[43mApiFunction\u001B[49m\u001B[38;5;241;43m.\u001B[39;49m\u001B[43mimportApi\u001B[49m\u001B[43m(\u001B[49m\u001B[38;5;28;43mcls\u001B[39;49m\u001B[43m,\u001B[49m\u001B[43m \u001B[49m\u001B[38;5;124;43m'\u001B[39;49m\u001B[38;5;124;43mGeometry\u001B[39;49m\u001B[38;5;124;43m'\u001B[39;49m\u001B[43m,\u001B[49m\u001B[43m \u001B[49m\u001B[38;5;124;43m'\u001B[39;49m\u001B[38;5;124;43mGeometry\u001B[39;49m\u001B[38;5;124;43m'\u001B[39;49m\u001B[43m)\u001B[49m\n\u001B[1;32m    157\u001B[0m   \u001B[38;5;28mcls\u001B[39m\u001B[38;5;241m.\u001B[39m_initialized \u001B[38;5;241m=\u001B[39m \u001B[38;5;28;01mTrue\u001B[39;00m\n",
      "File \u001B[0;32m~/PycharmProjects/ProjectNebulus/venv/lib/python3.10/site-packages/ee/apifunction.py:183\u001B[0m, in \u001B[0;36mApiFunction.importApi\u001B[0;34m(cls, target, prefix, type_name, opt_prepend)\u001B[0m\n\u001B[1;32m    170\u001B[0m \u001B[38;5;129m@classmethod\u001B[39m\n\u001B[1;32m    171\u001B[0m \u001B[38;5;28;01mdef\u001B[39;00m \u001B[38;5;21mimportApi\u001B[39m(\u001B[38;5;28mcls\u001B[39m, target, prefix, type_name, opt_prepend\u001B[38;5;241m=\u001B[39m\u001B[38;5;28;01mNone\u001B[39;00m):\n\u001B[1;32m    172\u001B[0m   \u001B[38;5;124;03m\"\"\"Adds all API functions that begin with a given prefix to a target class.\u001B[39;00m\n\u001B[1;32m    173\u001B[0m \n\u001B[1;32m    174\u001B[0m \u001B[38;5;124;03m  Args:\u001B[39;00m\n\u001B[0;32m   (...)\u001B[0m\n\u001B[1;32m    181\u001B[0m \u001B[38;5;124;03m        added functions.\u001B[39;00m\n\u001B[1;32m    182\u001B[0m \u001B[38;5;124;03m  \"\"\"\u001B[39;00m\n\u001B[0;32m--> 183\u001B[0m   \u001B[38;5;28;43mcls\u001B[39;49m\u001B[38;5;241;43m.\u001B[39;49m\u001B[43minitialize\u001B[49m\u001B[43m(\u001B[49m\u001B[43m)\u001B[49m\n\u001B[1;32m    184\u001B[0m   prepend \u001B[38;5;241m=\u001B[39m opt_prepend \u001B[38;5;129;01mor\u001B[39;00m \u001B[38;5;124m'\u001B[39m\u001B[38;5;124m'\u001B[39m\n\u001B[1;32m    185\u001B[0m   \u001B[38;5;28;01mfor\u001B[39;00m name, api_func \u001B[38;5;129;01min\u001B[39;00m \u001B[38;5;28mcls\u001B[39m\u001B[38;5;241m.\u001B[39m_api\u001B[38;5;241m.\u001B[39mitems():\n",
      "File \u001B[0;32m~/PycharmProjects/ProjectNebulus/venv/lib/python3.10/site-packages/ee/apifunction.py:154\u001B[0m, in \u001B[0;36mApiFunction.initialize\u001B[0;34m(cls)\u001B[0m\n\u001B[1;32m    152\u001B[0m \u001B[38;5;124;03m\"\"\"Initializes the list of signatures from the Earth Engine front-end.\"\"\"\u001B[39;00m\n\u001B[1;32m    153\u001B[0m \u001B[38;5;28;01mif\u001B[39;00m \u001B[38;5;129;01mnot\u001B[39;00m \u001B[38;5;28mcls\u001B[39m\u001B[38;5;241m.\u001B[39m_api:\n\u001B[0;32m--> 154\u001B[0m   signatures \u001B[38;5;241m=\u001B[39m \u001B[43mdata\u001B[49m\u001B[38;5;241;43m.\u001B[39;49m\u001B[43mgetAlgorithms\u001B[49m\u001B[43m(\u001B[49m\u001B[43m)\u001B[49m\n\u001B[1;32m    155\u001B[0m   api \u001B[38;5;241m=\u001B[39m {}\n\u001B[1;32m    156\u001B[0m   \u001B[38;5;28;01mfor\u001B[39;00m name, sig \u001B[38;5;129;01min\u001B[39;00m signatures\u001B[38;5;241m.\u001B[39mitems():\n\u001B[1;32m    157\u001B[0m     \u001B[38;5;66;03m# Strip type parameters.\u001B[39;00m\n",
      "File \u001B[0;32m~/PycharmProjects/ProjectNebulus/venv/lib/python3.10/site-packages/ee/data.py:1115\u001B[0m, in \u001B[0;36mgetAlgorithms\u001B[0;34m()\u001B[0m\n\u001B[1;32m   1099\u001B[0m \u001B[38;5;124;03m\"\"\"Get the list of algorithms.\u001B[39;00m\n\u001B[1;32m   1100\u001B[0m \n\u001B[1;32m   1101\u001B[0m \u001B[38;5;124;03mReturns:\u001B[39;00m\n\u001B[0;32m   (...)\u001B[0m\n\u001B[1;32m   1112\u001B[0m \u001B[38;5;124;03m              is not specified.\u001B[39;00m\n\u001B[1;32m   1113\u001B[0m \u001B[38;5;124;03m\"\"\"\u001B[39;00m\n\u001B[1;32m   1114\u001B[0m \u001B[38;5;28;01mtry\u001B[39;00m:\n\u001B[0;32m-> 1115\u001B[0m   call \u001B[38;5;241m=\u001B[39m \u001B[43m_get_cloud_api_resource\u001B[49m\u001B[43m(\u001B[49m\u001B[43m)\u001B[49m\u001B[38;5;241m.\u001B[39mprojects()\u001B[38;5;241m.\u001B[39malgorithms()\u001B[38;5;241m.\u001B[39mlist(\n\u001B[1;32m   1116\u001B[0m       parent\u001B[38;5;241m=\u001B[39m_get_projects_path(), prettyPrint\u001B[38;5;241m=\u001B[39m\u001B[38;5;28;01mFalse\u001B[39;00m)\n\u001B[1;32m   1117\u001B[0m \u001B[38;5;28;01mexcept\u001B[39;00m \u001B[38;5;167;01mTypeError\u001B[39;00m:\n\u001B[1;32m   1118\u001B[0m   call \u001B[38;5;241m=\u001B[39m _get_cloud_api_resource()\u001B[38;5;241m.\u001B[39mprojects()\u001B[38;5;241m.\u001B[39malgorithms()\u001B[38;5;241m.\u001B[39mlist(\n\u001B[1;32m   1119\u001B[0m       project\u001B[38;5;241m=\u001B[39m_get_projects_path(), prettyPrint\u001B[38;5;241m=\u001B[39m\u001B[38;5;28;01mFalse\u001B[39;00m)\n",
      "File \u001B[0;32m~/PycharmProjects/ProjectNebulus/venv/lib/python3.10/site-packages/ee/data.py:280\u001B[0m, in \u001B[0;36m_get_cloud_api_resource\u001B[0;34m()\u001B[0m\n\u001B[1;32m    278\u001B[0m \u001B[38;5;28;01mdef\u001B[39;00m \u001B[38;5;21m_get_cloud_api_resource\u001B[39m():\n\u001B[1;32m    279\u001B[0m   \u001B[38;5;28;01mif\u001B[39;00m _cloud_api_resource \u001B[38;5;129;01mis\u001B[39;00m \u001B[38;5;28;01mNone\u001B[39;00m:\n\u001B[0;32m--> 280\u001B[0m     \u001B[38;5;28;01mraise\u001B[39;00m ee_exception\u001B[38;5;241m.\u001B[39mEEException(\n\u001B[1;32m    281\u001B[0m         \u001B[38;5;124m'\u001B[39m\u001B[38;5;124mEarth Engine client library not initialized. Run `ee.Initialize()`\u001B[39m\u001B[38;5;124m'\u001B[39m)\n\u001B[1;32m    282\u001B[0m   \u001B[38;5;28;01mreturn\u001B[39;00m _cloud_api_resource\n",
      "\u001B[0;31mEEException\u001B[0m: Earth Engine client library not initialized. Run `ee.Initialize()`"
     ]
    }
   ]
  },
  {
   "cell_type": "code",
   "source": [
    "from collections import defaultdict\n",
    "\n",
    "area = defaultdict(lambda: 0)\n",
    "minimum = 9999\n",
    "maximum = 0\n",
    "maxTime = \"\"\n",
    "threshold = 0\n",
    "change = []\n",
    "sum = 0\n",
    "prev = None\n",
    "\n",
    "for tup in fire_df.itertuples():\n",
    "    power = tup[2]\n",
    "\n",
    "    if pd.notna(power) and power >= threshold:\n",
    "        if power < minimum:\n",
    "            minimum = power\n",
    "        elif power > maximum:\n",
    "            maximum = power\n",
    "            maxTime = tup[1].strftime(\"%-I:%M %P\")\n",
    "\n",
    "        if tup[0] % 10 == 0:\n",
    "            change.append(power - prev)\n",
    "\n",
    "        prev = power\n",
    "\n",
    "        area[tup[1].strftime(\"%-I:%M %P\")] += resolution_km * resolution_km\n",
    "\n",
    "print(dict(area))\n",
    "print(change)\n",
    "print(\"Minimum fire radioactive power:\", minimum / 10)\n",
    "print(\"Maximum FRP:\", maximum / 10)\n",
    "print(\"Time of Maximum FRP:\", maxTime)"
   ],
   "metadata": {
    "colab": {
     "base_uri": "https://localhost:8080/"
    },
    "id": "tI6MyvE56nrp",
    "outputId": "97067fbc-dcdb-4f98-eb37-79b290abee06",
    "pycharm": {
     "name": "#%%\n"
    }
   },
   "execution_count": null,
   "outputs": [
    {
     "output_type": "stream",
     "name": "stdout",
     "text": [
      "{'8:00 pm': 431.25, '10:30 pm': 456.25, '10:40 pm': 481.25, '12:40 am': 431.25, '8:40 pm': 456.25, '8:30 pm': 443.75, '8:50 pm': 462.5, '9:00 pm': 425.0, '9:10 pm': 468.75, '9:20 pm': 450.0, '9:30 pm': 512.5, '9:40 pm': 475.0, '9:50 pm': 493.75, '11:10 pm': 468.75, '11:20 pm': 481.25, '11:30 pm': 437.5, '11:40 pm': 562.5, '11:50 pm': 568.75, '7:20 pm': 375.0, '7:30 pm': 368.75, '7:50 pm': 375.0, '8:10 pm': 506.25, '8:20 pm': 518.75, '10:00 pm': 512.5, '10:10 pm': 443.75, '10:20 pm': 400.0, '10:50 pm': 487.5, '11:00 pm': 412.5, '12:00 am': 387.5, '12:10 am': 337.5, '12:20 am': 306.25, '12:30 am': 375.0, '12:50 am': 331.25, '1:00 am': 312.5, '1:10 am': 281.25, '1:20 am': 325.0, '1:30 am': 243.75, '1:40 am': 237.5, '1:50 am': 281.25, '2:00 am': 268.75, '2:10 am': 325.0, '2:20 am': 287.5, '2:30 am': 218.75, '7:00 pm': 275.0, '7:10 pm': 343.75, '7:40 pm': 400.0, '2:40 am': 287.5, '2:50 am': 625.0, '3:00 am': 612.5, '3:10 am': 556.25, '3:20 am': 562.5, '3:30 am': 531.25, '3:40 am': 543.75, '3:50 am': 568.75, '4:00 am': 550.0, '6:20 pm': 218.75, '6:30 pm': 250.0, '6:40 pm': 262.5, '6:50 pm': 306.25, '6:00 pm': 212.5, '6:10 pm': 200.0, '4:10 am': 525.0, '4:30 am': 518.75, '4:20 am': 512.5, '4:40 am': 481.25, '4:50 am': 406.25, '5:00 am': 393.75, '5:10 am': 387.5, '5:20 am': 393.75, '5:30 am': 356.25, '5:40 am': 387.5, '5:50 am': 337.5, '6:00 am': 331.25, '6:10 am': 331.25, '6:20 am': 375.0, '6:30 am': 356.25, '6:40 am': 362.5, '6:50 am': 362.5, '7:10 am': 331.25, '9:10 am': 318.75, '9:30 am': 287.5, '12:20 pm': 287.5, '1:40 pm': 12.5, '1:50 pm': 56.25, '2:00 pm': 50.0, '2:50 pm': 81.25, '3:00 pm': 75.0, '3:10 pm': 68.75, '3:20 pm': 81.25, '3:30 pm': 81.25, '3:40 pm': 81.25, '4:20 pm': 106.25, '4:30 pm': 112.5, '4:40 pm': 112.5, '4:50 pm': 162.5, '5:00 pm': 168.75, '5:10 pm': 162.5, '5:20 pm': 175.0, '5:30 pm': 187.5, '5:40 pm': 212.5, '5:50 pm': 237.5, '7:00 am': 350.0, '7:20 am': 312.5, '7:30 am': 287.5, '7:40 am': 337.5, '7:50 am': 331.25, '8:00 am': 325.0, '8:10 am': 325.0, '8:20 am': 331.25, '8:30 am': 350.0, '8:40 am': 337.5, '8:50 am': 293.75, '9:00 am': 300.0, '9:20 am': 306.25, '9:40 am': 275.0, '9:50 am': 256.25, '3:50 pm': 106.25, '4:00 pm': 168.75, '4:10 pm': 118.75, '10:20 am': 237.5, '10:30 am': 237.5, '10:50 am': 262.5, '10:00 am': 231.25, '10:10 am': 225.0, '10:40 am': 237.5, '11:00 am': 206.25, '11:10 am': 218.75, '11:20 am': 275.0, '11:30 am': 237.5, '11:40 am': 256.25, '11:50 am': 281.25, '12:00 pm': 268.75, '12:10 pm': 287.5, '12:30 pm': 225.0, '12:40 pm': 200.0, '12:50 pm': 168.75, '1:00 pm': 200.0, '1:10 pm': 225.0, '1:20 pm': 212.5, '1:30 pm': 206.25, '2:30 pm': 75.0, '2:40 pm': 75.0, '2:10 pm': 43.75, '2:20 pm': 68.75}\n",
      "[-24.14910888671875, 111.5497055053711, -22.330947875976562, 11.599456787109375, 24.701316833496094, -33.180694580078125, -1.600250244140625, 57.27751159667969, -4.8164520263671875, -18.797958374023438, -8.812591552734375, 999.4387817382812, -85.79498291015625, 13.444625854492188, 43.95713806152344, 269.328125, 22.573699951171875, -112.75315856933594, -12.953323364257812, -7.1108856201171875, -65.69657135009766, 57.27751159667969, -4.8164520263671875, -18.797958374023438, -8.812591552734375, 999.4387817382812, -85.79498291015625, -65.87942504882812, 322.21630859375, -4.0357666015625, -270.5950622558594, -157.64105224609375, -28.331817626953125, 587.5145263671875, -276.6815185546875, -24.445404052734375, -16.6102294921875, 2.408843994140625, 232.3192138671875, -58.54248046875, 178.85882568359375, -0.99981689453125, -22.66802978515625, -17.22918701171875, 25.722702026367188, -37.94287109375, -46.9908447265625, -17.228103637695312, 12.358795166015625, -2.2510528564453125, 123.5667724609375, -37.48919677734375, 106.15383911132812, -237.6239013671875, 19.139892578125, 81.58465576171875, -42.140228271484375, -67.22900390625, -11.645401000976562, 115.52734375, -47.62750244140625, -0.7086029052734375, 10.514907836914062, 37.7181396484375, 449.29296875, 34.3006591796875, 55.119873046875, 90.05070495605469, 13.0501708984375, 324.7984313964844, 152.9034423828125, 407.2156982421875, -1381.472183227539, 189.44921875, -231.66058349609375, -66.0755615234375, 16.876602172851562, 159.9588623046875, 215.19049072265625, 9.504486083984375, -98.0885009765625, -18.075927734375, -15.326675415039062, -7.226776123046875, 130.96192932128906, -40.8270263671875, -43.91387939453125, -89.9310302734375, -9.48687744140625, -14.509735107421875, -0.6383819580078125, 9.930068969726562, 26.511749267578125, 44.40766906738281, 163.4923095703125, -82.36801147460938, -74.71200561523438, -24.247756958007812, 0.0883026123046875, -525.5357666015625, -20.614776611328125, 14.240585327148438, 0.0373992919921875, -142.74267578125, -48.4755859375, 2.0376434326171875, -5.47296142578125, 36.19801330566406, -1.6422119140625, -40.87152099609375, -29.031967163085938, 119.07957458496094, -302.81797790527344, 2.642730712890625, 0.787445068359375, 318.66278076171875, -522.013671875, -16.003448486328125, 418.3849792480469, 160.27520751953125, -205.94097900390625, -208.0797119140625, -130.66400146484375, -35.831939697265625, -2.3406524658203125, -16.769805908203125, 48.2763671875, 269.59246826171875, 33.6165771484375, -156.07305908203125, -21.72802734375, 840.37109375, -30.580337524414062, 262.63299560546875, -3.642791748046875, 134.8111572265625, -2537.0626068115234, -195.38067626953125, 925.6374206542969, -58.6383056640625, 13.917327880859375, 69.63336181640625, -38.57147216796875, -29.05743408203125, -7.02532958984375, -323.4100341796875, -26.53973388671875, -127.25201416015625, -27.929351806640625, 2.0454559326171875, -131.65341186523438, 2496.430206298828, 60.31884765625, -230.61138916015625, -39.90130615234375, -13.88934326171875, -7.78436279296875, 2673.350631713867, 59.711395263671875, 189.52191162109375, 430.84442138671875, -147.537109375, -7.26104736328125, -36.29997253417969, -77.0294189453125, 491.354248046875, -499.47412109375, -0.85650634765625, 162.41429138183594, 429.7003173828125, 43.075531005859375, -155.3037109375, -24.604598999023438, 3.9887847900390625, -42.651275634765625, -319.600341796875, 111.03485107421875, 75.39700317382812, -49.426025390625, -34.54620361328125, 49.982177734375, 1.01190185546875, -5.348854064941406, 219.66980743408203, 28.34759521484375, 225.889892578125, 32.34564208984375, -28.96221923828125, -41.782196044921875, 0.6444244384765625, 118.097412109375, -219.50799560546875, -23.197540283203125, -9.306106567382812, -37.245880126953125, 1.5396270751953125, 16.624839782714844, 71.7661361694336, 252.30245971679688, -206.769775390625, 36.67430114746094, -171.63265991210938, 98.04864501953125, -48.797882080078125, -179.47283935546875, -48.033294677734375, -2504.2244720458984, 8.424560546875, -143.66259765625, -459.1885986328125, -31.8575439453125, 92.5577392578125, -12.930877685546875, -30.696090698242188, 276.6533203125, -461.7197265625, -1751.6969604492188, -70.11410522460938, 15.329620361328125, -0.28472900390625, -5.5050506591796875, -17.551513671875, 50.21875, -1999.5669555664062, 713.09814453125, -26.89678955078125, -36.33892822265625, -12.543792724609375, -4.5792694091796875, -62.970703125, 22.528961181640625, 4.68206787109375, 20.857650756835938, 405.54083251953125, -16.583648681640625, -0.08953857421875, 30.130828857421875, 41.18446350097656, -152.2120361328125, -323.1026611328125, 401.3661804199219, 10.197036743164062, -379.989990234375, 213.923583984375, -49.31170654296875, 257.0785217285156, 4.74151611328125, -150.0853271484375, 33.60929870605469, -73.05354309082031, -139.1536865234375, 246.0478515625, -2.0706787109375, 96.763427734375, -52.524658203125, -208.84234619140625, -26.524169921875, -47.150390625, 375.6529541015625, -28.58795166015625, 68.22988891601562, -8.653564453125, -9.6312255859375, 30.279541015625, -0.5533447265625, -11.183135986328125, 249.18125915527344, 17.820053100585938, 5.6578826904296875, -49.704742431640625, -4.483062744140625, -385.1927490234375, -58.6759033203125, 30.656051635742188, -52.537506103515625, 14.9981689453125, 55.89208984375, -31.698837280273438, -6.85601806640625, -33.68121337890625, 203.8500518798828, 25.108413696289062, -31.8575439453125, 92.5577392578125, -12.930877685546875, -30.696090698242188, 276.6533203125, -461.7197265625, -1751.6969604492188, -70.11410522460938, 15.329620361328125, -0.28472900390625, -5.5050506591796875, -17.551513671875, 50.21875, -1999.5669555664062, -116.91661071777344, 84.3118896484375, 152.2603759765625, 517.8612670898438, 33.147247314453125, -3.023223876953125, 28.989120483398438, -83.80926513671875, -81.523681640625, -821.8567962646484, 69.50640869140625, 11.522598266601562, 94.26419067382812, 61.25390625, 51.79560852050781, -37.845550537109375, 210.12484741210938, -41.30323791503906, 7.2603302001953125, -2.8564453125, 17.49407958984375, 156.5926513671875, -298.1240234375, 408.7496337890625, 84.8582763671875, 35.389404296875, -302.326416015625, 78.95262145996094, -13.34393310546875, 18.793212890625, 34.43330383300781, -82.28762817382812, -105.34539794921875, 123.1766357421875, 9.551239013671875, 13.029586791992188, 130.76535034179688, -30.732223510742188, -145.0723876953125, 15.3048095703125, -0.4142913818359375, 298.3420104980469, -49.86109924316406, -37.45587158203125, -75.30413818359375, 585.2811279296875, -312.22296142578125, 203.8500518798828, 25.108413696289062, -348.6679382324219, -77.47621154785156, -326.4339599609375, 158.33526611328125, 7.9301605224609375, -74.3973388671875, -184.10806274414062, 29.55364990234375, 137.8302001953125, -35.21533203125, 278.199951171875, -9.305694580078125, 116.29302978515625, 116.49136352539062, 976.1252136230469, -263.6458740234375, -114.3363037109375, -125.60980224609375, -3.0602874755859375, 65.92579650878906, -37.934722900390625, 22.251373291015625, -10.721954345703125, -91.8515625, 71.66387939453125, -7.731781005859375, -11.132186889648438, 17.6380615234375, -5.6150970458984375, -109.7269287109375, -19.35333251953125, -23.318603515625, 1230.0839538574219, -34.021484375, -85.9495849609375, -84.01983642578125, -238.142333984375, -19.818878173828125, 298.3420104980469, -49.86109924316406, -37.45587158203125, -75.30413818359375, 585.2811279296875, -312.22296142578125, 278.11737060546875, 428.111572265625, 297.3369140625, -147.0419921875, -273.665283203125, 1079.7626953125, 319.91693115234375, 7.9301605224609375, -74.3973388671875, -184.10806274414062, 29.55364990234375, 137.8302001953125, -35.21533203125, 278.199951171875, -9.305694580078125, 121.77804565429688, 100.2593994140625, -166.36074829101562, 44.21240234375, 400.4383544921875, -9.477249145507812, -90.69317626953125, 17.8365478515625, -7.237823486328125, -352.741943359375, -33.640350341796875, -15.019134521484375, -115.9395751953125, -69.838134765625, 2.008697509765625, -18.151275634765625, -24.324234008789062, -34.1234130859375, -7.8188934326171875, -180.54489135742188, -11.91009521484375, -150.6761474609375, 714.90771484375, 141.439697265625, 27.7099609375, 25.49951934814453, -63.32928466796875, 68.86993408203125, -38.109893798828125, -48.948272705078125, -10.407211303710938, 13.22442626953125, -10.540115356445312, -71.140869140625, 33.513427734375, -49.26593017578125, -23.86602783203125, 8.73309326171875, -9.9525146484375, -616.0623779296875, -67.3526611328125, -18.618377685546875, -10.312667846679688, -194.84375, -23.8878173828125, -24.8245849609375, -9.515960693359375, -44.74371337890625, -12.290313720703125, -14.26153564453125, -124.73797607421875, -19.721893310546875, -3.882904052734375, 15.469482421875, -7.65716552734375, -16.75494384765625, -17.14569091796875, 34.09461212158203, 0.970672607421875, 957.6868591308594, -17.115127563476562, -11.410858154296875, -45.358123779296875, 10.640960693359375, -5.152679443359375, -215.4183349609375, -17.1334228515625, 14.427001953125, -11.66864013671875, -124.716552734375, -135.7279052734375, -16.554412841796875, -24.5400390625, -118.9697265625, -82.08331298828125, -17.313720703125, -8.051895141601562, -299.006103515625, -92.6585693359375, -24.3756103515625, -17.951278686523438, 949.5514678955078, -138.3087158203125, -32.06121826171875, -23.898284912109375, 51.31175231933594, 427.2752685546875, -499.035888671875, -48.51214599609375, -20.91400146484375, -62.44596862792969, 42.49800109863281, -16.9041748046875, 170.428466796875, -8.3511962890625, -35.243621826171875, -14.269149780273438, 22.411712646484375, -119.922607421875, -124.14166259765625, -15.5985107421875, -15.493789672851562, 22.252395629882812, 74.019287109375, 125.084228515625, -27.675537109375, -134.6060791015625, -18.012908935546875, 9.78125, -4.0820465087890625, 362.902587890625, 217.16409301757812, 56.4803466796875, -124.0723876953125, -43.86181640625, -21.38800048828125, 14.604736328125, -502.8878479003906, 221.72723388671875, 861.429931640625, -470.5704345703125, -99.7476806640625, 23.624847412109375, -1.5730743408203125, 930.7669067382812, -43.84181213378906, 28.631240844726562, 321.1985778808594, 235.6678466796875, 201.46875, -156.74261474609375, -38.421173095703125, -29.829498291015625, 12.193115234375, 35.9384765625, 170.85484313964844, -520.2660522460938, -180.23388671875, -202.3082275390625, -10.551116943359375, -7.14093017578125, 67.8660888671875, 43.526519775390625, 28.235870361328125, 235.5538330078125, -132.2186279296875, -133.12933349609375, -42.999298095703125, -8.633712768554688, 88.777099609375, -113.84347534179688, -28.51129150390625, 135.0440673828125, -171.8056640625, 110.619384765625, -40.377166748046875, 181.14056396484375, 46.2630615234375, -49.887908935546875, 74.019287109375, 125.084228515625, -27.675537109375, -134.6060791015625, -18.012908935546875, 9.78125, -4.0820465087890625, 362.902587890625, 58.53752136230469, 447.50537109375, 71.183349609375, 187.4241943359375, -111.31838989257812, -27.605133056640625, -16.868743896484375, 55.45770263671875, 434.15240478515625, -2404.1967163085938, -1087.71923828125, 217.62371826171875, -403.17822265625, 513.515869140625, -217.5850830078125, 86.6982421875, -2.3860015869140625, 12.896347045898438, 17.997406005859375, 29.2349853515625, 321.1985778808594, 235.6678466796875, 201.46875, -156.74261474609375, -38.421173095703125, -29.829498291015625, 12.193115234375, 35.9384765625, 170.85484313964844, -520.2660522460938, -180.23388671875, -202.3082275390625, -10.551116943359375, -7.14093017578125, 67.8660888671875, 43.526519775390625, 28.235870361328125, 235.5538330078125, -132.2186279296875, -133.12933349609375, -42.999298095703125, -8.633712768554688, 88.777099609375, -113.84347534179688, -103.94966125488281, 357.6512451171875, -143.84814453125, 142.6658935546875, -28.8011474609375, -600.1285400390625, 17.477081298828125, -524.8699951171875, -387.1949462890625, -12.6583251953125, -220.23570251464844, -8.269363403320312, -53.726280212402344, 129.33908081054688, 94.15182495117188, 235.064453125, 185.075439453125, -12.79388427734375, -36.98590087890625, -6.35845947265625, 38.549468994140625, -32.5797119140625, -116.71302795410156, 301.47186279296875, 220.69482421875, -6.267822265625, 226.33740234375, 109.00338745117188, -1153.1544189453125, -53.00927734375, -159.790771484375, -466.138427734375, 139.7183837890625, 130.5679931640625, 554.63330078125, 762.6015625, -59.47412109375, -343.216796875, -164.96551513671875, -118.22314453125, -63.531768798828125, -83.65443420410156, -13.871307373046875, 126.96781921386719, 189.1181640625, -1835.5247802734375, -21.455184936523438, 294.242431640625, -469.12420654296875, -432.09814453125, -25.8734130859375, 41.381988525390625, 15.91534423828125, -10.57568359375, -2.81695556640625, 272.355712890625, 125.399169921875, -122.7822265625, -4.706024169921875, -37.86895751953125, 100.920654296875, 416.4580078125, 685.749267578125, 119.298583984375, -187.177734375, 289.2024230957031, 646.7718505859375, -25.747314453125, -851.1629638671875, 601.4764404296875, 71.55081176757812, 72.189697265625, -173.72552490234375, 2174.6646728515625, 55.16845703125, 3.9980316162109375, 222.9183349609375, 4.2139892578125, 0.87396240234375, -99.5927734375, 1.69012451171875, -33.77911376953125, 303.41619873046875, -35.8475341796875, -11.9329833984375, 298.46559143066406, 701.601806640625, 8.17816162109375, 147.04092407226562, 1697.2891845703125, -100.5098876953125, 35.5655517578125, -264.827880859375, 843.3986206054688, 31.0491943359375, -122.8280029296875, 429.908203125, -90.5054931640625, 2.113861083984375, 6.94671630859375, -137.48345947265625, 1109.8363037109375, 451.6002197265625, 39.67280578613281, -1377.5018310546875, 750.433837890625, 76.88925170898438, -82.58552551269531, 111.76675415039062, -143.5233154296875]\n",
      "Minimum fire radioactive power: 7.790291595458984\n",
      "Maximum FRP: 294.2412109375\n",
      "Time of Maximum FRP: 10:40 am\n"
     ]
    }
   ]
  },
  {
   "cell_type": "code",
   "source": [
    "from matplotlib import pyplot as plt\n",
    "import numpy as np\n",
    "\n",
    "sortedArea = sorted(area.items())\n",
    "keys = []\n",
    "values = []\n",
    "\n",
    "for date, value in sortedArea:\n",
    "    keys.append(date)\n",
    "    values.append(value)\n",
    "\n",
    "xticks = sorted(list(keys)[::30])\n",
    "plt.xticks(np.linspace(0, len(values), len(xticks)), xticks)\n",
    "plt.plot(values, \"ro\")\n",
    "\n",
    "plt.suptitle(\"Time vs. Fire Area\")\n",
    "plt.xlabel(\"Date (MM/DD)\")\n",
    "plt.ylabel(\"Fire area ($km^2$)\")\n",
    "plt.show()"
   ],
   "metadata": {
    "colab": {
     "base_uri": "https://localhost:8080/",
     "height": 308
    },
    "id": "00yd9oQP6zJd",
    "outputId": "cf2c0279-c991-4cf4-e1e9-23b7ba535df2",
    "pycharm": {
     "name": "#%%\n"
    }
   },
   "execution_count": null,
   "outputs": [
    {
     "output_type": "display_data",
     "data": {
      "text/plain": [
       "<Figure size 432x288 with 1 Axes>"
      ],
      "image/png": "[encoded data removed]"
     },
     "metadata": {
      "needs_background": "light"
     }
    }
   ]
  },
  {
   "cell_type": "markdown",
   "source": [
    "Wind data"
   ],
   "metadata": {
    "id": "YVFjBk3W68j9",
    "pycharm": {
     "name": "#%% md\n"
    }
   }
  },
  {
   "cell_type": "code",
   "source": [
    "dataset = \"ECMWF/ERA5_LAND/HOURLY\"\n",
    "band = [\"u_component_of_wind_10m\", \"v_component_of_wind_10m\"]\n",
    "resolution_km = 2\n",
    "dateRange = [\"2021-08-01\", \"2021-08-02\"]\n",
    "\n",
    "wind_df = getDataset()\n",
    "# wind_df = wind_df[12::24]   # 2pm every day\n",
    "\n",
    "speed = []\n",
    "direction = []\n",
    "\n",
    "for row in wind_df.itertuples(index=False):\n",
    "    speed.append(abs(row[2]) + abs(row[1]))\n",
    "    direction.append(atan(row[2] / row[1]) * (180 / pi))\n",
    "\n",
    "wind_df[\"speed\"] = speed\n",
    "wind_df[\"direction\"] = direction\n",
    "\n",
    "wind_df.drop(columns=[\"u_component_of_wind_10m\", \"v_component_of_wind_10m\"], inplace=True)\n",
    "\n",
    "print(\"\\nBand preview\")\n",
    "print(wind_df)\n",
    "\n",
    "export_wind = export_wind or False\n",
    "if export_wind:\n",
    "    # from google.colab import files\n",
    "\n",
    "    wind_df.to_csv(\"wind_df.csv\", index=False)\n",
    "\n",
    "    # files.download(\"wind_df.csv\")"
   ],
   "metadata": {
    "colab": {
     "base_uri": "https://localhost:8080/",
     "height": 425
    },
    "id": "S4QddXNO65pV",
    "outputId": "dfed0fd7-1143-498c-9205-febeaa38bb09",
    "pycharm": {
     "name": "#%%\n"
    }
   },
   "execution_count": null,
   "outputs": [
    {
     "output_type": "stream",
     "name": "stdout",
     "text": [
      "-368500.3066416035\n",
      "Raw data\n",
      "['id', 'longitude', 'latitude', 'time', 'u_component_of_wind_10m', 'v_component_of_wind_10m']\n",
      "['20210801T00', -121.48591323611379, 39.51464356020745, 1627776000000, -0.4466552734375, 3.1544647216796875]\n",
      "['20210801T01', -121.48591323611379, 39.51464356020745, 1627779600000, -0.6600799560546875, 3.215911865234375]\n",
      "['20210801T02', -121.48591323611379, 39.51464356020745, 1627783200000, -1.0277862548828125, 2.641754150390625]\n",
      "['20210801T03', -121.48591323611379, 39.51464356020745, 1627786800000, -1.4093475341796875, 2.307708740234375]\n",
      "46464\n",
      "\n",
      "Band preview\n",
      "0                datetime   longitude   latitude     speed\n",
      "0     2021-08-01 00:00:00 -121.485913  39.514644  3.601120\n",
      "1     2021-08-01 01:00:00 -121.485913  39.514644  3.875992\n",
      "2     2021-08-01 02:00:00 -121.485913  39.514644  3.669540\n",
      "3     2021-08-01 03:00:00 -121.485913  39.514644  3.717056\n",
      "4     2021-08-01 04:00:00 -121.485913  39.514644  3.942179\n",
      "...                   ...         ...        ...       ...\n",
      "46459 2021-08-01 19:00:00 -120.520224  40.480332  1.557274\n",
      "46460 2021-08-01 20:00:00 -120.520224  40.480332  1.752684\n",
      "46461 2021-08-01 21:00:00 -120.520224  40.480332  1.915392\n",
      "46462 2021-08-01 22:00:00 -120.520224  40.480332  1.670444\n",
      "46463 2021-08-01 23:00:00 -120.520224  40.480332  1.886893\n",
      "\n",
      "[46464 rows x 4 columns]\n"
     ]
    },
    {
     "output_type": "display_data",
     "data": {
      "text/plain": [
       "<IPython.core.display.Javascript object>"
      ],
      "application/javascript": [
       "\n",
       "    async function download(id, filename, size) {\n",
       "      if (!google.colab.kernel.accessAllowed) {\n",
       "        return;\n",
       "      }\n",
       "      const div = document.createElement('div');\n",
       "      const label = document.createElement('label');\n",
       "      label.textContent = `Downloading \"${filename}\": `;\n",
       "      div.appendChild(label);\n",
       "      const progress = document.createElement('progress');\n",
       "      progress.max = size;\n",
       "      div.appendChild(progress);\n",
       "      document.body.appendChild(div);\n",
       "\n",
       "      const buffers = [];\n",
       "      let downloaded = 0;\n",
       "\n",
       "      const channel = await google.colab.kernel.comms.open(id);\n",
       "      // Send a message to notify the kernel that we're ready.\n",
       "      channel.send({})\n",
       "\n",
       "      for await (const message of channel.messages) {\n",
       "        // Send a message to notify the kernel that we're ready.\n",
       "        channel.send({})\n",
       "        if (message.buffers) {\n",
       "          for (const buffer of message.buffers) {\n",
       "            buffers.push(buffer);\n",
       "            downloaded += buffer.byteLength;\n",
       "            progress.value = downloaded;\n",
       "          }\n",
       "        }\n",
       "      }\n",
       "      const blob = new Blob(buffers, {type: 'application/binary'});\n",
       "      const a = document.createElement('a');\n",
       "      a.href = window.URL.createObjectURL(blob);\n",
       "      a.download = filename;\n",
       "      div.appendChild(a);\n",
       "      a.click();\n",
       "      div.remove();\n",
       "    }\n",
       "  "
      ]
     },
     "metadata": {}
    },
    {
     "output_type": "display_data",
     "data": {
      "text/plain": [
       "<IPython.core.display.Javascript object>"
      ],
      "application/javascript": [
       "download(\"download_98c37439-0b9a-47a9-b9bc-170d332751cf\", \"wind_df.csv\", 3541811)"
      ]
     },
     "metadata": {}
    }
   ]
  },
  {
   "cell_type": "code",
   "source": [
    "from matplotlib import pyplot as plt\n",
    "import numpy as np\n",
    "import cartopy.crs as ccrs\n",
    "\n",
    "lat = np.array(wind_df[\"latitude\"], dtype=\"float64\")\n",
    "lon = np.array(wind_df[\"longitude\"], dtype=\"float64\")\n",
    "u = np.array(wind_df[\"u_component_of_wind_10m\"], dtype=\"float64\")\n",
    "v = np.array(wind_df[\"v_component_of_wind_10m\"], dtype=\"float64\")\n",
    "\n",
    "print(\"Total vector count:\", len(lat))\n",
    "\n",
    "fig = plt.figure()\n",
    "coords = data[fireName][\"coordinates\"]\n",
    "ax = fig.add_subplot(1, 1, 1, projection=ccrs.PlateCarree())\n",
    "ax.quiver(lon, lat, u, v)\n",
    "plt.show()"
   ],
   "metadata": {
    "colab": {
     "base_uri": "https://localhost:8080/",
     "height": 265
    },
    "id": "RY3mGOTg7Jbb",
    "outputId": "760e026b-5379-4005-ead7-59dbb3a0d5a8",
    "pycharm": {
     "name": "#%%\n"
    }
   },
   "execution_count": null,
   "outputs": [
    {
     "output_type": "stream",
     "name": "stdout",
     "text": [
      "Total vector count: 1936\n"
     ]
    },
    {
     "output_type": "display_data",
     "data": {
      "text/plain": [
       "<Figure size 432x288 with 1 Axes>"
      ],
      "image/png": "[encoded data removed]"
     },
     "metadata": {
      "needs_background": "light"
     }
    }
   ]
  },
  {
   "cell_type": "markdown",
   "source": [
    "# Data Analysis\n"
   ],
   "metadata": {
    "id": "HM6jIvBy9PT_",
    "pycharm": {
     "name": "#%% md\n"
    }
   }
  },
  {
   "cell_type": "markdown",
   "source": [
    "Cross-Correlation\n",
    "---\n",
    "\n",
    "of the change in fire area vs. wind speed\n",
    "\n",
    "$∑ v_{0(i+lag)} * v_{1(i+lag)}$"
   ],
   "metadata": {
    "id": "TbgaUNex9iIq",
    "pycharm": {
     "name": "#%% md\n"
    }
   }
  },
  {
   "cell_type": "code",
   "source": [
    "lag = 0\n",
    "correlation = 0\n",
    "\n",
    "while correlation > 0:\n",
    "    lag += 1"
   ],
   "metadata": {
    "id": "D-kPHS389mnv",
    "pycharm": {
     "name": "#%%\n"
    }
   },
   "execution_count": null,
   "outputs": []
  },
  {
   "cell_type": "markdown",
   "source": [
    "Creating a Grid\n",
    "---"
   ],
   "metadata": {
    "id": "FM2ui5Jq7VQ1",
    "pycharm": {
     "name": "#%% md\n"
    }
   }
  },
  {
   "cell_type": "code",
   "source": [
    "uniqueCount = 0\n",
    "prev = None\n",
    "\n",
    "for tup in fire_df.itertuples(index=False):\n",
    "    if prev is None:\n",
    "        prev = tup[0]\n",
    "\n",
    "    elif tup[0] == prev:\n",
    "        break\n",
    "\n",
    "    uniqueCount += 1\n",
    "\n",
    "print(uniqueCount)"
   ],
   "metadata": {
    "colab": {
     "base_uri": "https://localhost:8080/"
    },
    "id": "1gEqVFhg7Ygl",
    "outputId": "d361620a-9ef3-4e69-9c91-a513d5e3da01",
    "pycharm": {
     "name": "#%%\n"
    }
   },
   "execution_count": null,
   "outputs": [
    {
     "output_type": "stream",
     "name": "stdout",
     "text": [
      "144\n"
     ]
    }
   ]
  },
  {
   "cell_type": "code",
   "source": [
    "def index(val, dir=\"lon\"):\n",
    "    if dir == \"lon\":\n",
    "        return round((val - minLon) / increase)\n",
    "    else:\n",
    "        return round((val - minLat) / increase)\n",
    "\n",
    "\n",
    "unique = np.unique(wind_df[\"longitude\"])\n",
    "increase = (unique[-1] - unique[0]) / (len(unique) - 1)\n",
    "minLon = wind_df[\"longitude\"].min()\n",
    "minLat = wind_df[\"latitude\"].min()\n",
    "print(\"Increase:\", increase)\n",
    "\n",
    "length = index(wind_df[\"longitude\"].max()) + 1\n",
    "width = index(wind_df[\"latitude\"].max(), \"lat\") + 1\n",
    "grid = np.ndarray((length, width, 5))\n",
    "\n",
    "print(\"Grid dimensions: \", length, \"x\", width, sep=\"\")\n",
    "print(\"Area:\", length * width, \"km^2\")"
   ],
   "metadata": {
    "colab": {
     "base_uri": "https://localhost:8080/"
    },
    "id": "7XuF5hKE7dbs",
    "outputId": "a08b84e6-fe78-4905-b005-1b18bfe3cc92",
    "pycharm": {
     "name": "#%%\n"
    }
   },
   "execution_count": null,
   "outputs": [
    {
     "output_type": "stream",
     "name": "stdout",
     "text": [
      "Increase: 0.022457882102988012\n",
      "Grid dimensions: 44x44\n",
      "Area: 1936 km^2\n"
     ]
    }
   ]
  },
  {
   "cell_type": "code",
   "source": [
    "for tup in wind_df.itertuples(index=False):\n",
    "    x = index(tup[4])\n",
    "    y = index(tup[5], \"lat\")\n",
    "    grid[x][y] = (tup[6], tup[7], 0, tup[3], False)\n",
    "\n",
    "for tup in fire_df.itertuples(index=False):\n",
    "    x = index(tup[2])\n",
    "    y = index(tup[3], \"lat\")\n",
    "\n",
    "    if tup[1]:\n",
    "        grid[x][y][2] = tup[1]\n",
    "\n",
    "print(grid[0][:10])"
   ],
   "metadata": {
    "colab": {
     "base_uri": "https://localhost:8080/"
    },
    "id": "y0G_kYJ37lNt",
    "outputId": "f483df06-ebe2-4bb5-a3fd-87b5fd16f2a3",
    "pycharm": {
     "name": "#%%\n"
    }
   },
   "execution_count": null,
   "outputs": [
    {
     "output_type": "stream",
     "name": "stdout",
     "text": [
      "[[  3.87599182 -78.40088807          nan   2.51843262   0.        ]\n",
      " [  3.87599182 -78.40088807          nan   2.51843262   0.        ]\n",
      " [  3.34962463 -81.9517024           nan   2.78051758   0.        ]\n",
      " [  3.34962463 -81.9517024           nan   2.78051758   0.        ]\n",
      " [  3.34962463 -81.9517024           nan   2.78051758   0.        ]\n",
      " [  3.34962463 -81.9517024           nan   2.78051758   0.        ]\n",
      " [  3.34962463 -81.9517024           nan   2.78051758   0.        ]\n",
      " [  2.71012878  89.79117111          nan   3.57873535   0.        ]\n",
      " [  2.71012878  89.79117111          nan   3.57873535   0.        ]\n",
      " [  2.71012878  89.79117111          nan   3.57873535   0.        ]]\n"
     ]
    }
   ]
  },
  {
   "cell_type": "code",
   "source": [
    "from matplotlib import pyplot as plt\n",
    "import numpy as np\n",
    "\n",
    "allColors = []\n",
    "pos = []\n",
    "\n",
    "for i in range(1):\n",
    "    fire_no_nan = fire_df.iloc[i::uniqueCount]\n",
    "    fire_no_nan = fire_no_nan[fire_no_nan.Power.notnull()]\n",
    "    maximum = round(fire_no_nan[\"Power\"].max())\n",
    "\n",
    "    if i == 0:\n",
    "        print(fire_no_nan[:3], \"\\nLength:\", len(fire_no_nan))\n",
    "        continue\n",
    "\n",
    "    colors = [[1, 1, 1]]\n",
    "    lon = [-118.5]\n",
    "    lat = [40.6]\n",
    "    for tup in fire_no_nan.itertuples(index=False):\n",
    "        lon.append(tup[2])\n",
    "        lat.append(tup[3])\n",
    "        colors.append([tup[1] / maximum * 0.7 + 0.25, 0, 0])\n",
    "\n",
    "    fig = plt.figure()\n",
    "    ax = fig.add_subplot(1, 1, 1)\n",
    "    ax.scatter(lon, lat, c=colors, s=1)\n",
    "\n",
    "plt.show()"
   ],
   "metadata": {
    "colab": {
     "base_uri": "https://localhost:8080/"
    },
    "id": "pyUq5Ke77scr",
    "outputId": "801f7a50-2ecb-4515-a54c-6d5a53777897",
    "pycharm": {
     "name": "#%%\n"
    }
   },
   "execution_count": null,
   "outputs": [
    {
     "output_type": "stream",
     "name": "stdout",
     "text": [
      "0                     datetime       Power   longitude   latitude\n",
      "161424 2021-08-05 00:00:31.900  119.615517 -121.014298  40.076091\n",
      "166752 2021-08-05 00:00:31.900  189.555252 -121.171503  40.098548\n",
      "166896 2021-08-05 00:00:31.900  259.639008 -121.149045  40.098548 \n",
      "Length: 62\n"
     ]
    }
   ]
  },
  {
   "cell_type": "markdown",
   "source": [
    "DFS Code\n",
    "---"
   ],
   "metadata": {
    "id": "nAwso6FL7y3C",
    "pycharm": {
     "name": "#%% md\n"
    }
   }
  },
  {
   "cell_type": "code",
   "source": [
    "MaxFRP = 2\n",
    "isBoundary = 4\n",
    "\n",
    "visited = np.full((length, width), False)\n",
    "\n",
    "dx = [1, -1, 0, 0, 1, 1, 1, -1]\n",
    "dy = [0, 0, 1, -1, 1, -1, 1, 1]\n",
    "boundaryTileCount = 0\n",
    "\n",
    "\n",
    "def dfs(x, y, start=True):\n",
    "    global boundaryTileCount\n",
    "    visited[x][y] = True\n",
    "    tiles = []\n",
    "\n",
    "    for i in range(4):\n",
    "        newX = x + dx[i]\n",
    "        newY = y + dy[i]\n",
    "\n",
    "        if not 0 <= newX < length or not 0 <= newY < width:\n",
    "            continue\n",
    "\n",
    "        if np.isnan(grid[newX][newY][MaxFRP]):\n",
    "            grid[x][y][isBoundary] = True\n",
    "            continue\n",
    "\n",
    "        if visited[newX][newY]:\n",
    "            continue\n",
    "\n",
    "        tiles.append((newX, newY))\n",
    "\n",
    "    if grid[x][y][isBoundary]:\n",
    "        for x, y in tiles:\n",
    "            boundaryTileCount += 1\n",
    "            dfs(x, y, False)\n",
    "\n",
    "\n",
    "for tup in fire_no_nan.itertuples(index=False):\n",
    "    startX = index(tup[2])\n",
    "    startY = index(tup[3], \"lat\")\n",
    "\n",
    "    if visited[startX][startY]:\n",
    "        continue\n",
    "\n",
    "    assert not np.isnan(grid[startX][startY][MaxFRP])\n",
    "\n",
    "    dfs(startX, startY)\n",
    "\n",
    "print(\"Boundary Tiles:\", boundaryTileCount)"
   ],
   "metadata": {
    "colab": {
     "base_uri": "https://localhost:8080/",
     "height": 232
    },
    "id": "xvcG_hyE7wfo",
    "outputId": "3681e40e-9fa1-4638-b17d-f088f54419c8",
    "pycharm": {
     "name": "#%%\n"
    }
   },
   "execution_count": null,
   "outputs": [
    {
     "output_type": "error",
     "ename": "AssertionError",
     "evalue": "ignored",
     "traceback": [
      "\u001B[0;31m---------------------------------------------------------------------------\u001B[0m",
      "\u001B[0;31mAssertionError\u001B[0m                            Traceback (most recent call last)",
      "\u001B[0;32m<ipython-input-12-e01c4ccf4dc5>\u001B[0m in \u001B[0;36m<module>\u001B[0;34m\u001B[0m\n\u001B[1;32m     43\u001B[0m         \u001B[0;32mcontinue\u001B[0m\u001B[0;34m\u001B[0m\u001B[0;34m\u001B[0m\u001B[0m\n\u001B[1;32m     44\u001B[0m \u001B[0;34m\u001B[0m\u001B[0m\n\u001B[0;32m---> 45\u001B[0;31m     \u001B[0;32massert\u001B[0m \u001B[0;32mnot\u001B[0m \u001B[0mnp\u001B[0m\u001B[0;34m.\u001B[0m\u001B[0misnan\u001B[0m\u001B[0;34m(\u001B[0m\u001B[0mgrid\u001B[0m\u001B[0;34m[\u001B[0m\u001B[0mstartX\u001B[0m\u001B[0;34m]\u001B[0m\u001B[0;34m[\u001B[0m\u001B[0mstartY\u001B[0m\u001B[0;34m]\u001B[0m\u001B[0;34m[\u001B[0m\u001B[0mMaxFRP\u001B[0m\u001B[0;34m]\u001B[0m\u001B[0;34m)\u001B[0m\u001B[0;34m\u001B[0m\u001B[0;34m\u001B[0m\u001B[0m\n\u001B[0m\u001B[1;32m     46\u001B[0m \u001B[0;34m\u001B[0m\u001B[0m\n\u001B[1;32m     47\u001B[0m     \u001B[0mdfs\u001B[0m\u001B[0;34m(\u001B[0m\u001B[0mstartX\u001B[0m\u001B[0;34m,\u001B[0m \u001B[0mstartY\u001B[0m\u001B[0;34m)\u001B[0m\u001B[0;34m\u001B[0m\u001B[0;34m\u001B[0m\u001B[0m\n",
      "\u001B[0;31mAssertionError\u001B[0m: "
     ]
    }
   ]
  }
 ]
}